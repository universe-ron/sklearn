{
 "cells": [
  {
   "cell_type": "markdown",
   "id": "f7720b65-d39a-4d3e-9aa1-8725606e6e32",
   "metadata": {},
   "source": [
    "## Install Required Packages\n",
    "We need to install the nmslib and pynndescent packages. These packages can be installed using pip command."
   ]
  },
  {
   "cell_type": "code",
   "execution_count": 3,
   "id": "c6fd6dcc-c379-4ec3-b53b-09515ecad961",
   "metadata": {},
   "outputs": [
    {
     "name": "stdout",
     "output_type": "stream",
     "text": [
      "Collecting nmslib\n",
      "  Downloading nmslib-2.1.1.tar.gz (188 kB)\n",
      "  Installing build dependencies: started\n",
      "  Installing build dependencies: finished with status 'done'\n",
      "  Getting requirements to build wheel: started\n",
      "  Getting requirements to build wheel: finished with status 'done'\n",
      "  Installing backend dependencies: started\n",
      "  Installing backend dependencies: finished with status 'done'\n",
      "  Preparing metadata (pyproject.toml): started\n",
      "  Preparing metadata (pyproject.toml): finished with status 'done'\n",
      "Collecting pynndescent\n",
      "  Downloading pynndescent-0.5.13-py3-none-any.whl.metadata (6.8 kB)\n",
      "Collecting pybind11<2.6.2 (from nmslib)\n",
      "  Using cached pybind11-2.6.1-py2.py3-none-any.whl.metadata (8.7 kB)\n",
      "Requirement already satisfied: psutil in c:\\users\\60322\\appdata\\local\\programs\\python\\python313\\lib\\site-packages (from nmslib) (7.0.0)\n",
      "Requirement already satisfied: numpy>=1.10.0 in c:\\users\\60322\\appdata\\local\\programs\\python\\python313\\lib\\site-packages (from nmslib) (2.2.6)\n",
      "Requirement already satisfied: scikit-learn>=0.18 in c:\\users\\60322\\appdata\\local\\programs\\python\\python313\\lib\\site-packages (from pynndescent) (1.6.1)\n",
      "Requirement already satisfied: scipy>=1.0 in c:\\users\\60322\\appdata\\local\\programs\\python\\python313\\lib\\site-packages (from pynndescent) (1.15.3)\n",
      "Collecting numba>=0.51.2 (from pynndescent)\n",
      "  Downloading numba-0.61.2-cp313-cp313-win_amd64.whl.metadata (2.8 kB)\n",
      "Collecting llvmlite>=0.30 (from pynndescent)\n",
      "  Downloading llvmlite-0.44.0-cp313-cp313-win_amd64.whl.metadata (5.0 kB)\n",
      "Requirement already satisfied: joblib>=0.11 in c:\\users\\60322\\appdata\\local\\programs\\python\\python313\\lib\\site-packages (from pynndescent) (1.5.0)\n",
      "Requirement already satisfied: threadpoolctl>=3.1.0 in c:\\users\\60322\\appdata\\local\\programs\\python\\python313\\lib\\site-packages (from scikit-learn>=0.18->pynndescent) (3.6.0)\n",
      "Downloading pynndescent-0.5.13-py3-none-any.whl (56 kB)\n",
      "Downloading llvmlite-0.44.0-cp313-cp313-win_amd64.whl (30.3 MB)\n",
      "   ---------------------------------------- 0.0/30.3 MB ? eta -:--:--\n",
      "   -- ------------------------------------- 1.6/30.3 MB 9.6 MB/s eta 0:00:04\n",
      "   ---- ----------------------------------- 3.7/30.3 MB 9.5 MB/s eta 0:00:03\n",
      "   ------- -------------------------------- 6.0/30.3 MB 11.2 MB/s eta 0:00:03\n",
      "   ------- -------------------------------- 6.0/30.3 MB 11.2 MB/s eta 0:00:03\n",
      "   -------- ------------------------------- 6.6/30.3 MB 6.4 MB/s eta 0:00:04\n",
      "   ----------- ---------------------------- 8.9/30.3 MB 7.7 MB/s eta 0:00:03\n",
      "   ----------- ---------------------------- 8.9/30.3 MB 7.7 MB/s eta 0:00:03\n",
      "   ------------ --------------------------- 9.2/30.3 MB 5.5 MB/s eta 0:00:04\n",
      "   --------------- ------------------------ 12.1/30.3 MB 6.5 MB/s eta 0:00:03\n",
      "   --------------- ------------------------ 12.1/30.3 MB 6.5 MB/s eta 0:00:03\n",
      "   --------------- ------------------------ 12.1/30.3 MB 6.5 MB/s eta 0:00:03\n",
      "   ------------------- -------------------- 14.4/30.3 MB 5.7 MB/s eta 0:00:03\n",
      "   --------------------- ------------------ 16.3/30.3 MB 5.9 MB/s eta 0:00:03\n",
      "   ----------------------- ---------------- 18.1/30.3 MB 6.1 MB/s eta 0:00:02\n",
      "   ----------------------- ---------------- 18.1/30.3 MB 6.1 MB/s eta 0:00:02\n",
      "   ----------------------- ---------------- 18.1/30.3 MB 6.1 MB/s eta 0:00:02\n",
      "   -------------------------- ------------- 20.2/30.3 MB 5.7 MB/s eta 0:00:02\n",
      "   ----------------------------- ---------- 22.0/30.3 MB 5.8 MB/s eta 0:00:02\n",
      "   ------------------------------- -------- 23.6/30.3 MB 6.0 MB/s eta 0:00:02\n",
      "   ------------------------------- -------- 23.6/30.3 MB 6.0 MB/s eta 0:00:02\n",
      "   ------------------------------- -------- 23.6/30.3 MB 6.0 MB/s eta 0:00:02\n",
      "   ------------------------------- -------- 24.1/30.3 MB 5.2 MB/s eta 0:00:02\n",
      "   --------------------------------- ------ 25.7/30.3 MB 5.3 MB/s eta 0:00:01\n",
      "   ---------------------------------- ----- 26.5/30.3 MB 5.2 MB/s eta 0:00:01\n",
      "   ------------------------------------ --- 27.8/30.3 MB 5.3 MB/s eta 0:00:01\n",
      "   -------------------------------------- - 29.4/30.3 MB 5.3 MB/s eta 0:00:01\n",
      "   ---------------------------------------  30.1/30.3 MB 5.4 MB/s eta 0:00:01\n",
      "   ---------------------------------------- 30.3/30.3 MB 5.3 MB/s eta 0:00:00\n",
      "Downloading numba-0.61.2-cp313-cp313-win_amd64.whl (2.8 MB)\n",
      "   ---------------------------------------- 0.0/2.8 MB ? eta -:--:--\n",
      "   ---------------------- ----------------- 1.6/2.8 MB 8.0 MB/s eta 0:00:01\n",
      "   ---------------------------------------- 2.8/2.8 MB 7.5 MB/s eta 0:00:00\n",
      "Using cached pybind11-2.6.1-py2.py3-none-any.whl (188 kB)\n",
      "Building wheels for collected packages: nmslib\n",
      "  Building wheel for nmslib (pyproject.toml): started\n",
      "  Building wheel for nmslib (pyproject.toml): finished with status 'error'\n",
      "Failed to build nmslib\n"
     ]
    },
    {
     "name": "stderr",
     "output_type": "stream",
     "text": [
      "  error: subprocess-exited-with-error\n",
      "  \n",
      "  Building wheel for nmslib (pyproject.toml) did not run successfully.\n",
      "  exit code: 1\n",
      "  \n",
      "  [25 lines of output]\n",
      "  C:\\Users\\60322\\AppData\\Local\\Temp\\pip-build-env-yt8ibg_i\\overlay\\Lib\\site-packages\\setuptools\\_distutils\\dist.py:289: UserWarning: Unknown distribution option: 'test_suite'\n",
      "    warnings.warn(msg)\n",
      "  C:\\Users\\60322\\AppData\\Local\\Temp\\pip-build-env-yt8ibg_i\\overlay\\Lib\\site-packages\\setuptools\\dist.py:599: SetuptoolsDeprecationWarning: Invalid dash-separated key 'description-file' in 'metadata' (setup.cfg), please use the underscore name 'description_file' instead.\n",
      "  !!\n",
      "  \n",
      "          ********************************************************************************\n",
      "          Usage of dash-separated 'description-file' will not be supported in future\n",
      "          versions. Please use the underscore name 'description_file' instead.\n",
      "          (Affected: nmslib).\n",
      "  \n",
      "          By 2026-Mar-03, you need to update your project and remove deprecated calls\n",
      "          or your builds will no longer be supported.\n",
      "  \n",
      "          See https://setuptools.pypa.io/en/latest/userguide/declarative_config.html for details.\n",
      "          ********************************************************************************\n",
      "  \n",
      "  !!\n",
      "    opt = self._enforce_underscore(opt, section)\n",
      "  Dependence list: ['pybind11<2.6.2', 'psutil', \"numpy>=1.10.0,<1.17 ; python_version=='2.7'\", \"numpy>=1.10.0 ; python_version>='3.5'\"]\n",
      "  running bdist_wheel\n",
      "  running build\n",
      "  running build_ext\n",
      "  Extra compilation arguments: ['/EHsc', '/openmp', '/O2', '/DVERSION_INFO=\\\\\"2.1.1\\\\\"']\n",
      "  building 'nmslib' extension\n",
      "  error: Microsoft Visual C++ 14.0 or greater is required. Get it with \"Microsoft C++ Build Tools\": https://visualstudio.microsoft.com/visual-cpp-build-tools/\n",
      "  [end of output]\n",
      "  \n",
      "  note: This error originates from a subprocess, and is likely not a problem with pip.\n",
      "  ERROR: Failed building wheel for nmslib\n",
      "\n",
      "[notice] A new release of pip is available: 25.0.1 -> 25.1.1\n",
      "[notice] To update, run: python.exe -m pip install --upgrade pip\n",
      "ERROR: Failed to build installable wheels for some pyproject.toml based projects (nmslib)\n"
     ]
    }
   ],
   "source": [
    "!pip install nmslib pynndescent"
   ]
  },
  {
   "cell_type": "markdown",
   "id": "8e506bcb-4a97-4bac-abb2-f6f652c4fe7a",
   "metadata": {},
   "source": [
    "## Import Required Libraries\n",
    "We need to import the required libraries, including nmslib, pynndescent, sklearn, numpy, scipy, and matplotlib."
   ]
  },
  {
   "cell_type": "code",
   "execution_count": 4,
   "id": "40053606-2c87-4c9c-ab22-611ce6038760",
   "metadata": {},
   "outputs": [
    {
     "ename": "ModuleNotFoundError",
     "evalue": "No module named 'pynndescent'",
     "output_type": "error",
     "traceback": [
      "\u001b[31m---------------------------------------------------------------------------\u001b[39m",
      "\u001b[31mModuleNotFoundError\u001b[39m                       Traceback (most recent call last)",
      "\u001b[36mCell\u001b[39m\u001b[36m \u001b[39m\u001b[32mIn[4]\u001b[39m\u001b[32m, line 12\u001b[39m\n\u001b[32m     10\u001b[39m \u001b[38;5;28;01mfrom\u001b[39;00m\u001b[38;5;250m \u001b[39m\u001b[34;01msklearn\u001b[39;00m\u001b[34;01m.\u001b[39;00m\u001b[34;01mneighbors\u001b[39;00m\u001b[38;5;250m \u001b[39m\u001b[38;5;28;01mimport\u001b[39;00m KNeighborsTransformer\n\u001b[32m     11\u001b[39m \u001b[38;5;28;01mfrom\u001b[39;00m\u001b[38;5;250m \u001b[39m\u001b[34;01msklearn\u001b[39;00m\u001b[34;01m.\u001b[39;00m\u001b[34;01mpipeline\u001b[39;00m\u001b[38;5;250m \u001b[39m\u001b[38;5;28;01mimport\u001b[39;00m make_pipeline\n\u001b[32m---> \u001b[39m\u001b[32m12\u001b[39m \u001b[38;5;28;01mfrom\u001b[39;00m\u001b[38;5;250m \u001b[39m\u001b[34;01mpynndescent\u001b[39;00m\u001b[38;5;250m \u001b[39m\u001b[38;5;28;01mimport\u001b[39;00m PyNNDescentTransformer\n\u001b[32m     13\u001b[39m \u001b[38;5;28;01mimport\u001b[39;00m\u001b[38;5;250m \u001b[39m\u001b[34;01mnmslib\u001b[39;00m\n",
      "\u001b[31mModuleNotFoundError\u001b[39m: No module named 'pynndescent'"
     ]
    }
   ],
   "source": [
    "import sys\n",
    "import joblib\n",
    "import numpy as np\n",
    "import matplotlib.pyplot as plt\n",
    "from scipy.sparse import csr_matrix\n",
    "from sklearn.base import BaseEstimator, TransformerMixin\n",
    "from sklearn.datasets import fetch_openml\n",
    "from sklearn.utils import shuffle\n",
    "from sklearn.manifold import TSNE\n",
    "from sklearn.neighbors import KNeighborsTransformer\n",
    "from sklearn.pipeline import make_pipeline\n",
    "from pynndescent import PyNNDescentTransformer\n",
    "import nmslib"
   ]
  },
  {
   "cell_type": "markdown",
   "id": "6b568fa1-4ad0-4ea7-bb85-eaa941f19455",
   "metadata": {},
   "source": [
    "## Define a Wrapper Class for nmslib\n",
    "We define a wrapper class for nmslib to implement the scikit-learn API to the nmslib, as well as a loading function. The NMSlibTransformer class takes n_neighbors, metric, method, and n_jobs as parameters. The fit() method initializes the nmslib and adds the data points to it. The transform() method finds the nearest neighbors and returns a sparse matrix."
   ]
  },
  {
   "cell_type": "code",
   "execution_count": 2,
   "id": "c163135c-38b0-437e-9818-66fffa7f228e",
   "metadata": {},
   "outputs": [],
   "source": [
    "class NMSlibTransformer(TransformerMixin, BaseEstimator):\n",
    "    \"\"\"Wrapper for using nmslib as sklearn's KNeighborsTransformer\"\"\"\n",
    "\n",
    "    def __init__(self, n_neighbors=5, metric=\"euclidean\", method=\"sw-graph\", n_jobs=-1):\n",
    "        self.n_neighbors = n_neighbors\n",
    "        self.method = method\n",
    "        self.metric = metric\n",
    "        self.n_jobs = n_jobs\n",
    "\n",
    "    def fit(self, X):\n",
    "        self.n_samples_fit_ = X.shape[0]\n",
    "\n",
    "        # see more metric in the manual\n",
    "        # https://github.com/nmslib/nmslib/tree/master/manual\n",
    "        space = {\n",
    "            \"euclidean\": \"l2\",\n",
    "            \"cosine\": \"cosinesimil\",\n",
    "            \"l1\": \"l1\",\n",
    "            \"l2\": \"l2\",\n",
    "        }[self.metric]\n",
    "\n",
    "        self.nmslib_ = nmslib.init(method=self.method, space=space)\n",
    "        self.nmslib_.addDataPointBatch(X.copy())\n",
    "        self.nmslib_.createIndex()\n",
    "        return self\n",
    "\n",
    "    def transform(self, X):\n",
    "        n_samples_transform = X.shape[0]\n",
    "\n",
    "        # For compatibility reasons, as each sample is considered as its own\n",
    "        # neighbor, one extra neighbor will be computed.\n",
    "        n_neighbors = self.n_neighbors + 1\n",
    "\n",
    "        if self.n_jobs < 0:\n",
    "            # Same handling as done in joblib for negative values of n_jobs:\n",
    "            # in particular, `n_jobs == -1` means \"as many threads as CPUs\".\n",
    "            num_threads = joblib.cpu_count() + self.n_jobs + 1\n",
    "        else:\n",
    "            num_threads = self.n_jobs\n",
    "\n",
    "        results = self.nmslib_.knnQueryBatch(\n",
    "            X.copy(), k=n_neighbors, num_threads=num_threads\n",
    "        )\n",
    "        indices, distances = zip(*results)\n",
    "        indices, distances = np.vstack(indices), np.vstack(distances)\n",
    "\n",
    "        indptr = np.arange(0, n_samples_transform * n_neighbors + 1, n_neighbors)\n",
    "        kneighbors_graph = csr_matrix(\n",
    "            (distances.ravel(), indices.ravel(), indptr),\n",
    "            shape=(n_samples_transform, self.n_samples_fit_),\n",
    "        )\n",
    "\n",
    "        return kneighbors_graph"
   ]
  },
  {
   "cell_type": "markdown",
   "id": "b6bed0cc-9644-4968-8f68-5ddc48b124bc",
   "metadata": {},
   "source": [
    "## Define a Function to Load MNIST Dataset\n",
    "We define a function load_mnist() to load the MNIST dataset, shuffle the data, and return only the specified number of samples."
   ]
  },
  {
   "cell_type": "code",
   "execution_count": 5,
   "id": "565e7732-9b03-42ee-ab15-6a610ac9f05a",
   "metadata": {},
   "outputs": [],
   "source": [
    "def load_mnist(n_samples):\n",
    "    \"\"\"Load MNIST, shuffle the data, and return only n_samples.\"\"\"\n",
    "    mnist = fetch_openml(\"mnist_784\", as_frame=False, parser=\"pandas\")\n",
    "    X, y = shuffle(mnist.data, mnist.target, random_state=2)\n",
    "    return X[:n_samples] / 255, y[:n_samples]"
   ]
  },
  {
   "cell_type": "markdown",
   "id": "12b93c86-4632-474b-bff6-e1bd39649770",
   "metadata": {},
   "source": [
    "## Benchmark Different Nearest Neighbors Transformers\n",
    "We benchmark the different exact/approximate nearest neighbors transformers. We define the datasets, transformers, and parameters, including n_iter, perplexity, metric, and n_neighbors. We measure the time it takes to fit and transform each transformer on each dataset. We print out the time it took to fit and transform each transformer."
   ]
  },
  {
   "cell_type": "code",
   "execution_count": 6,
   "id": "363483a4-824e-4999-99b6-5ffe0cc0d979",
   "metadata": {},
   "outputs": [
    {
     "ename": "NameError",
     "evalue": "name 'PyNNDescentTransformer' is not defined",
     "output_type": "error",
     "traceback": [
      "\u001b[31m---------------------------------------------------------------------------\u001b[39m",
      "\u001b[31mNameError\u001b[39m                                 Traceback (most recent call last)",
      "\u001b[36mCell\u001b[39m\u001b[36m \u001b[39m\u001b[32mIn[6]\u001b[39m\u001b[32m, line 31\u001b[39m\n\u001b[32m      9\u001b[39m n_neighbors = \u001b[38;5;28mint\u001b[39m(\u001b[32m3.0\u001b[39m * perplexity + \u001b[32m1\u001b[39m) + \u001b[32m1\u001b[39m\n\u001b[32m     11\u001b[39m tsne_params = \u001b[38;5;28mdict\u001b[39m(\n\u001b[32m     12\u001b[39m     init=\u001b[33m\"\u001b[39m\u001b[33mrandom\u001b[39m\u001b[33m\"\u001b[39m,  \u001b[38;5;66;03m# pca not supported for sparse matrices\u001b[39;00m\n\u001b[32m     13\u001b[39m     perplexity=perplexity,\n\u001b[32m   (...)\u001b[39m\u001b[32m     17\u001b[39m     learning_rate=\u001b[33m\"\u001b[39m\u001b[33mauto\u001b[39m\u001b[33m\"\u001b[39m,\n\u001b[32m     18\u001b[39m )\n\u001b[32m     20\u001b[39m transformers = [\n\u001b[32m     21\u001b[39m     (\n\u001b[32m     22\u001b[39m         \u001b[33m\"\u001b[39m\u001b[33mKNeighborsTransformer\u001b[39m\u001b[33m\"\u001b[39m,\n\u001b[32m     23\u001b[39m         KNeighborsTransformer(n_neighbors=n_neighbors, mode=\u001b[33m\"\u001b[39m\u001b[33mdistance\u001b[39m\u001b[33m\"\u001b[39m, metric=metric),\n\u001b[32m     24\u001b[39m     ),\n\u001b[32m     25\u001b[39m     (\n\u001b[32m     26\u001b[39m         \u001b[33m\"\u001b[39m\u001b[33mNMSlibTransformer\u001b[39m\u001b[33m\"\u001b[39m,\n\u001b[32m     27\u001b[39m         NMSlibTransformer(n_neighbors=n_neighbors, metric=metric),\n\u001b[32m     28\u001b[39m     ),\n\u001b[32m     29\u001b[39m     (\n\u001b[32m     30\u001b[39m         \u001b[33m\"\u001b[39m\u001b[33mPyNNDescentTransformer\u001b[39m\u001b[33m\"\u001b[39m,\n\u001b[32m---> \u001b[39m\u001b[32m31\u001b[39m         \u001b[43mPyNNDescentTransformer\u001b[49m(\n\u001b[32m     32\u001b[39m             n_neighbors=n_neighbors, metric=metric, parallel_batch_queries=\u001b[38;5;28;01mTrue\u001b[39;00m\n\u001b[32m     33\u001b[39m         ),\n\u001b[32m     34\u001b[39m     ),\n\u001b[32m     35\u001b[39m ]\n\u001b[32m     37\u001b[39m \u001b[38;5;28;01mfor\u001b[39;00m dataset_name, (X, y) \u001b[38;5;129;01min\u001b[39;00m datasets:\n\u001b[32m     38\u001b[39m     msg = \u001b[33mf\u001b[39m\u001b[33m\"\u001b[39m\u001b[33mBenchmarking on \u001b[39m\u001b[38;5;132;01m{\u001b[39;00mdataset_name\u001b[38;5;132;01m}\u001b[39;00m\u001b[33m:\u001b[39m\u001b[33m\"\u001b[39m\n",
      "\u001b[31mNameError\u001b[39m: name 'PyNNDescentTransformer' is not defined"
     ]
    }
   ],
   "source": [
    "datasets = [\n",
    "    (\"MNIST_10000\", load_mnist(n_samples=10_000)),\n",
    "    (\"MNIST_20000\", load_mnist(n_samples=20_000)),\n",
    "]\n",
    "\n",
    "n_iter = 500\n",
    "perplexity = 30\n",
    "metric = \"euclidean\"\n",
    "n_neighbors = int(3.0 * perplexity + 1) + 1\n",
    "\n",
    "tsne_params = dict(\n",
    "    init=\"random\",  # pca not supported for sparse matrices\n",
    "    perplexity=perplexity,\n",
    "    method=\"barnes_hut\",\n",
    "    random_state=42,\n",
    "    n_iter=n_iter,\n",
    "    learning_rate=\"auto\",\n",
    ")\n",
    "\n",
    "transformers = [\n",
    "    (\n",
    "        \"KNeighborsTransformer\",\n",
    "        KNeighborsTransformer(n_neighbors=n_neighbors, mode=\"distance\", metric=metric),\n",
    "    ),\n",
    "    (\n",
    "        \"NMSlibTransformer\",\n",
    "        NMSlibTransformer(n_neighbors=n_neighbors, metric=metric),\n",
    "    ),\n",
    "    (\n",
    "        \"PyNNDescentTransformer\",\n",
    "        PyNNDescentTransformer(\n",
    "            n_neighbors=n_neighbors, metric=metric, parallel_batch_queries=True\n",
    "        ),\n",
    "    ),\n",
    "]\n",
    "\n",
    "for dataset_name, (X, y) in datasets:\n",
    "    msg = f\"Benchmarking on {dataset_name}:\"\n",
    "    print(f\"\\n{msg}\\n\" + str(\"-\" * len(msg)))\n",
    "\n",
    "    for transformer_name, transformer in transformers:\n",
    "        longest = np.max([len(name) for name, model in transformers])\n",
    "        start = time.time()\n",
    "        transformer.fit(X)\n",
    "        fit_duration = time.time() - start\n",
    "        print(f\"{transformer_name:<{longest}} {fit_duration:.3f} sec (fit)\")\n",
    "        start = time.time()\n",
    "        Xt = transformer.transform(X)\n",
    "        transform_duration = time.time() - start\n",
    "        print(f\"{transformer_name:<{longest}} {transform_duration:.3f} sec (transform)\")\n",
    "        if transformer_name == \"PyNNDescentTransformer\":\n",
    "            start = time.time()\n",
    "            Xt = transformer.transform(X)\n",
    "            transform_duration = time.time() - start\n",
    "            print(\n",
    "                f\"{transformer_name:<{longest}} {transform_duration:.3f} sec\"\n",
    "                \" (transform)\"\n",
    "            )"
   ]
  },
  {
   "cell_type": "markdown",
   "id": "4c6f258f-1818-4b20-a269-37446547acf1",
   "metadata": {},
   "source": [
    "## Visualize TSNE Embedding\n",
    "We visualize the TSNE embeddings using different nearest neighbors transformers. We define transformers as a list containing three pipelines: TSNE with internal NearestNeighbors, TSNE with KNeighborsTransformer, and TSNE with NMSlibTransformer. We iterate over the datasets and transformers and plot the TSNE embeddings, which should be similar across methods. We show the plot at the end."
   ]
  },
  {
   "cell_type": "code",
   "execution_count": 7,
   "id": "94ae9533-0a08-4faa-9237-4a33aecf620b",
   "metadata": {},
   "outputs": [
    {
     "name": "stdout",
     "output_type": "stream",
     "text": [
      "\n",
      "Benchmarking on MNIST_10000:\n",
      "----------------------------\n"
     ]
    },
    {
     "ename": "NameError",
     "evalue": "name 'time' is not defined",
     "output_type": "error",
     "traceback": [
      "\u001b[31m---------------------------------------------------------------------------\u001b[39m",
      "\u001b[31mNameError\u001b[39m                                 Traceback (most recent call last)",
      "\u001b[36mCell\u001b[39m\u001b[36m \u001b[39m\u001b[32mIn[7]\u001b[39m\u001b[32m, line 35\u001b[39m\n\u001b[32m     33\u001b[39m \u001b[38;5;28;01mfor\u001b[39;00m transformer_name, transformer \u001b[38;5;129;01min\u001b[39;00m transformers:\n\u001b[32m     34\u001b[39m     longest = np.max([\u001b[38;5;28mlen\u001b[39m(name) \u001b[38;5;28;01mfor\u001b[39;00m name, model \u001b[38;5;129;01min\u001b[39;00m transformers])\n\u001b[32m---> \u001b[39m\u001b[32m35\u001b[39m     start = \u001b[43mtime\u001b[49m.time()\n\u001b[32m     36\u001b[39m     Xt = transformer.fit_transform(X)\n\u001b[32m     37\u001b[39m     transform_duration = time.time() - start\n",
      "\u001b[31mNameError\u001b[39m: name 'time' is not defined"
     ]
    },
    {
     "data": {
      "image/png": "[encoded data removed]",
      "text/plain": [
       "<Figure size 1500x800 with 6 Axes>"
      ]
     },
     "metadata": {},
     "output_type": "display_data"
    }
   ],
   "source": [
    "transformers = [\n",
    "    (\"TSNE with internal NearestNeighbors\", TSNE(metric=metric, **tsne_params)),\n",
    "    (\n",
    "        \"TSNE with KNeighborsTransformer\",\n",
    "        make_pipeline(\n",
    "            KNeighborsTransformer(\n",
    "                n_neighbors=n_neighbors, mode=\"distance\", metric=metric\n",
    "            ),\n",
    "            TSNE(metric=\"precomputed\", **tsne_params),\n",
    "        ),\n",
    "    ),\n",
    "    (\n",
    "        \"TSNE with NMSlibTransformer\",\n",
    "        make_pipeline(\n",
    "            NMSlibTransformer(n_neighbors=n_neighbors, metric=metric),\n",
    "            TSNE(metric=\"precomputed\", **tsne_params),\n",
    "        ),\n",
    "    ),\n",
    "]\n",
    "\n",
    "nrows = len(datasets)\n",
    "ncols = np.sum([1 for name, model in transformers if \"TSNE\" in name])\n",
    "fig, axes = plt.subplots(\n",
    "    nrows=nrows, ncols=ncols, squeeze=False, figsize=(5 * ncols, 4 * nrows)\n",
    ")\n",
    "axes = axes.ravel()\n",
    "i_ax = 0\n",
    "\n",
    "for dataset_name, (X, y) in datasets:\n",
    "    msg = f\"Benchmarking on {dataset_name}:\"\n",
    "    print(f\"\\n{msg}\\n\" + str(\"-\" * len(msg)))\n",
    "\n",
    "    for transformer_name, transformer in transformers:\n",
    "        longest = np.max([len(name) for name, model in transformers])\n",
    "        start = time.time()\n",
    "        Xt = transformer.fit_transform(X)\n",
    "        transform_duration = time.time() - start\n",
    "        print(\n",
    "            f\"{transformer_name:<{longest}} {transform_duration:.3f} sec\"\n",
    "            \" (fit_transform)\"\n",
    "        )\n",
    "\n",
    "        # plot TSNE embedding which should be very similar across methods\n",
    "        axes[i_ax].set_title(transformer_name + \"\\non \" + dataset_name)\n",
    "        axes[i_ax].scatter(\n",
    "            Xt[:, 0],\n",
    "            Xt[:, 1],\n",
    "            c=y.astype(np.int32),\n",
    "            alpha=0.2,\n",
    "            cmap=plt.cm.viridis,\n",
    "        )\n",
    "        axes[i_ax].xaxis.set_major_formatter(NullFormatter())\n",
    "        axes[i_ax].yaxis.set_major_formatter(NullFormatter())\n",
    "        axes[i_ax].axis(\"tight\")\n",
    "        i_ax += 1\n",
    "\n",
    "fig.tight_layout()\n",
    "plt.show()"
   ]
  },
  {
   "cell_type": "markdown",
   "id": "6a212315-3f70-473b-b72f-a5f6fb22edab",
   "metadata": {},
   "source": [
    "## Summary\n",
    "In this lab, we learned how to use approximate nearest neighbors in TSNE using Python's scikit-learn library. We imported the required libraries, defined a wrapper class for nmslib, defined a function to load the MNIST dataset, benchmarked different nearest neighbors transformers, and visualized TSNE embeddings. We learned that the default TSNE estimator with its internal NearestNeighbors implementation is roughly equivalent to the pipeline with TSNE and KNeighborsTransformer in terms of performance. We also learned that the approximate NMSlibTransformer is already slightly faster than the exact search on the smallest dataset but this speed difference is expected to become more significant on datasets with a larger number of samples."
   ]
  },
  {
   "cell_type": "code",
   "execution_count": null,
   "id": "ab496cb7-cbf8-4004-b48e-a66ae79bed2f",
   "metadata": {},
   "outputs": [],
   "source": []
  }
 ],
 "metadata": {
  "kernelspec": {
   "display_name": "Python 3 (ipykernel)",
   "language": "python",
   "name": "python3"
  },
  "language_info": {
   "codemirror_mode": {
    "name": "ipython",
    "version": 3
   },
   "file_extension": ".py",
   "mimetype": "text/x-python",
   "name": "python",
   "nbconvert_exporter": "python",
   "pygments_lexer": "ipython3",
   "version": "3.13.3"
  }
 },
 "nbformat": 4,
 "nbformat_minor": 5
}
