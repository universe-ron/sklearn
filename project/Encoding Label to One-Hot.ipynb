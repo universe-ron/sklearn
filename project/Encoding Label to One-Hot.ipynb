{
 "cells": [
  {
   "cell_type": "code",
   "execution_count": 1,
   "id": "e70fc430-b50f-42cf-a933-3025b74d74d8",
   "metadata": {},
   "outputs": [
    {
     "name": "stdout",
     "output_type": "stream",
     "text": [
      "[[1, 0, 0, 0, 0], [1, 0, 0, 0, 0], [1, 0, 0, 0, 0], [0, 1, 0, 0, 0], [0, 1, 0, 0, 0], [0, 0, 0, 0, 1]]\n"
     ]
    }
   ],
   "source": [
    "from typing import List\n",
    "\n",
    "\n",
    "def label_process(labels: List[str], sample_y: List[str]) -> List[List[int]]:\n",
    "    \"\"\"\n",
    "    Transforms a list of sample labels into a format suitable for classification tasks.\n",
    "\n",
    "    The function creates a binary list for each sample label, where the position\n",
    "    of the label in the 'labels' list is marked as 1 and all other positions are 0.\n",
    "    This is known as one-hot encoding.\n",
    "\n",
    "    Args:\n",
    "        labels (List[str]): List of unique labels/classes in the dataset.\n",
    "        sample_y (List[str]): List of sample labels to be transformed.\n",
    "\n",
    "    Returns:\n",
    "        List[List[int]]: Transformed labels, each represented as a binary list corresponding\n",
    "        to the positions in the 'labels' list.\n",
    "    \"\"\"\n",
    "    train_y = []\n",
    "    for y in sample_y:\n",
    "        train = [0] * len(labels)\n",
    "        train[labels.index(y)] = 1\n",
    "        train_y.append(train)\n",
    "    return train_y\n",
    "\n",
    "if __name__ == \"__main__\":\n",
    "    labels = [\"Python\", \"Java\", \"Tensorflow\", \"Springboot\", \"Keras\"]\n",
    "    sample_y = [\"Python\", \"Python\", \"Python\", \"Java\", \"Java\", \"Keras\"]\n",
    "    train_y = label_process(labels, sample_y)\n",
    "    print(train_y)\n"
   ]
  },
  {
   "cell_type": "markdown",
   "id": "d084e459-8734-4742-9d14-291de9098c17",
   "metadata": {},
   "source": [
    "Introduction\n",
    "Classification is one of the most common tasks in machine learning.\n",
    "\n",
    "The goal of a classification task is to determine the label(s) of a given example.\n",
    "\n",
    "For example, in the LabEx course classification task, given the title of a course, the task is to determine the type of the course.\n",
    "\n",
    "There are different types of classification tasks, such as:\n",
    "\n",
    "Single-label classification: Each example has only one label. For example, Your First Python Lab belongs to the label \"Beginner\" among the labels \"Beginner\", \"Intermediate\" and \"Advanced\".\n",
    "Multi-label classification: Each example can have multiple labels. For example, Random Number Generationw with NumPy belongs to both the \"random\", \"sqrt\" and \"sum\" skills.\n",
    "Multi-class classification: Each example can belong to multiple categories, and each category has its own set of labels. For example, Linear Regression belongs to the \"Pro\" category in terms of course type, and belongs to the \"linear_model\", \"sklearn\", \"numpy\", \"matplotlib\" and \"pandas\" categories in terms of course direction.\n",
    "In this challenge, we will be focusing on performing one-hot encoding for label data. Given a list of labels and the labels of the examples, the task is to encode the labels using one-hot encoding. One-hot encoding involves creating a binary representation of the labels, where each category is represented by a unique position in the encoded sequence. The goal is to complete the label_process function in the provided label_process.py file to perform the one-hot encoding."
   ]
  },
  {
   "cell_type": "markdown",
   "id": "053184a1-1379-43b2-8d69-1ecf0fd553fb",
   "metadata": {},
   "source": [
    "Encoding Label to One-Hot\n",
    "The first step in any supervised learning task is to process the labeled data and convert it into the format required by the algorithm for training.\n",
    "\n",
    "In the case of single-label classification tasks, the most common method of converting label variables into data is through one-hot encoding.\n",
    "\n",
    "For example, in the course type classification task, given a label list [\"Beginner\", \"Intermediate\", \"Advanced\"], one-hot encoding is used to encode the label. To do this, the number of labels in the list is first determined (3 in this case), and then a zero-filled sequence of length 3 is created. For each category, a 1 is placed at the corresponding position in the sequence.\n",
    "\n",
    "For example:\n",
    "The encoding for the label \"Beginner\" is [1,0,0], indicating that the label \"Beginner\" is in position 0 in the label list.\n",
    "The encoding for the label \"Intermediate\" is [0,1,0], indicating that the label \"Intermediate\" is in position 1 in the label list.\n",
    "The encoding for the label \"Advanced\" is [0,0,1], indicating that the label \"Advanced\" is in position 2 in the label list."
   ]
  },
  {
   "cell_type": "code",
   "execution_count": null,
   "id": "0c40a9c5-e7b5-43d2-a16b-1d19e94d6199",
   "metadata": {},
   "outputs": [],
   "source": []
  }
 ],
 "metadata": {
  "kernelspec": {
   "display_name": "Python 3 (ipykernel)",
   "language": "python",
   "name": "python3"
  },
  "language_info": {
   "codemirror_mode": {
    "name": "ipython",
    "version": 3
   },
   "file_extension": ".py",
   "mimetype": "text/x-python",
   "name": "python",
   "nbconvert_exporter": "python",
   "pygments_lexer": "ipython3",
   "version": "3.12.8"
  }
 },
 "nbformat": 4,
 "nbformat_minor": 5
}
