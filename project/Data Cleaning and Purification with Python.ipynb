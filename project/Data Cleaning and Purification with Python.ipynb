{
 "cells": [
  {
   "cell_type": "code",
   "execution_count": 1,
   "id": "24bdc8d1-e0ea-4585-8c8a-abcc515f672d",
   "metadata": {},
   "outputs": [],
   "source": [
    "import csv\n",
    "import re\n",
    "from datetime import datetime\n",
    "\n",
    "# Initialize an empty list to store cleaned data\n",
    "clean_data = []\n",
    "\n",
    "# Open and read the raw data CSV file\n",
    "with open(\"raw_data.csv\", \"r\") as f:\n",
    "    reader = csv.DictReader(f)  # Use DictReader for easy access to columns by name\n",
    "    for row in reader:\n",
    "        # Extract relevant fields from each row\n",
    "        name = row[\"name\"]\n",
    "        sex = row[\"gender\"]\n",
    "        date = row[\"birth date\"]\n",
    "        mail = row[\"mail\"]\n",
    "\n",
    "        # Check if the name field is empty and skip the row if it is\n",
    "        if len(name) < 1:\n",
    "            continue\n",
    "\n",
    "        # Check if the gender field is valid (either 'M' or 'F') and skip the row if not\n",
    "        if sex not in [\"M\", \"F\"]:\n",
    "            continue\n",
    "\n",
    "        # Attempt to parse the birth date and calculate age; skip the row if parsing fails\n",
    "        try:\n",
    "            date = datetime.strptime(date, \"%Y-%m-%d\")\n",
    "        except ValueError:\n",
    "            continue\n",
    "        age = datetime.now().year - date.year\n",
    "        # Skip the row if the calculated age is unrealistic (less than 0 or more than 200)\n",
    "        if age < 0 or age > 200:\n",
    "            continue\n",
    "\n",
    "        # Define a regex pattern for validating email addresses\n",
    "        r = r\"^[a-zA-Z0-9_-]+(\\.[a-zA-Z0-9_-]+){0,4}@[a-zA-Z0-9_-]+(\\.[a-zA-Z0-9_-]+){0,4}$\"\n",
    "        # Check if the email field matches the regex pattern and skip the row if it doesn't\n",
    "        if not re.match(r, mail):\n",
    "            continue\n",
    "\n",
    "        # If all checks pass, append the row to the cleaned data list\n",
    "        clean_data.append(row)\n",
    "\n",
    "# Write the cleaned data to a new CSV file\n",
    "with open(\"clean_data.csv\", \"w\", newline=\"\") as f:\n",
    "    writer = csv.DictWriter(\n",
    "        f, fieldnames=row.keys()\n",
    "    )  # DictWriter to write using column names\n",
    "    writer.writeheader()  # Write the header row\n",
    "    writer.writerows(clean_data)  # Write all the cleaned rows"
   ]
  },
  {
   "cell_type": "code",
   "execution_count": null,
   "id": "593cfd5b-b038-4c98-8195-86441f95bc93",
   "metadata": {},
   "outputs": [],
   "source": []
  }
 ],
 "metadata": {
  "kernelspec": {
   "display_name": "Python 3 (ipykernel)",
   "language": "python",
   "name": "python3"
  },
  "language_info": {
   "codemirror_mode": {
    "name": "ipython",
    "version": 3
   },
   "file_extension": ".py",
   "mimetype": "text/x-python",
   "name": "python",
   "nbconvert_exporter": "python",
   "pygments_lexer": "ipython3",
   "version": "3.12.8"
  }
 },
 "nbformat": 4,
 "nbformat_minor": 5
}
