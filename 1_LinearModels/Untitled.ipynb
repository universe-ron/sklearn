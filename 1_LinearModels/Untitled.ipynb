{
 "cells": [
  {
   "cell_type": "code",
   "execution_count": null,
   "id": "0e65817b-4bcd-4d19-87af-762219bf6314",
   "metadata": {},
   "outputs": [],
   "source": [
    "!wget http://labfile.oss.aliyuncs.com/courses/1081/challenge-2-bitcoin.csv"
   ]
  },
  {
   "cell_type": "code",
   "execution_count": null,
   "id": "1b5922c9-c3ab-47c0-ab92-bd2cf0c4ee73",
   "metadata": {},
   "outputs": [],
   "source": [
    "import pandas as pd\n",
    "\n",
    "### Start ### (≈ 2 lines of code)\n",
    "df = None\n",
    "### End ###"
   ]
  }
 ],
 "metadata": {
  "kernelspec": {
   "display_name": "Python 3 (ipykernel)",
   "language": "python",
   "name": "python3"
  },
  "language_info": {
   "codemirror_mode": {
    "name": "ipython",
    "version": 3
   },
   "file_extension": ".py",
   "mimetype": "text/x-python",
   "name": "python",
   "nbconvert_exporter": "python",
   "pygments_lexer": "ipython3",
   "version": "3.13.3"
  }
 },
 "nbformat": 4,
 "nbformat_minor": 5
}
