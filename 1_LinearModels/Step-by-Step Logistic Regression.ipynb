{
 "cells": [
  {
   "cell_type": "markdown",
   "id": "2dd7215c-b547-472f-b132-cadde6e5d9bc",
   "metadata": {},
   "source": [
    "In this lab, we will explore the sparsity of solutions when L1, L2, and Elastic-Net penalty are used for different values of C. We will use logistic regression to classify 8x8 images of digits into two classes: 0-4 against 5-9. We will visualize the coefficients of the models for varying C."
   ]
  },
  {
   "cell_type": "markdown",
   "id": "376c32e3-d522-4c44-beb0-70ad806527d3",
   "metadata": {},
   "source": [
    "## Import Required Libraries\n",
    "The first step is to import the necessary libraries. We will need numpy, matplotlib.pyplot, datasets, StandardScaler, and LogisticRegression from sklearn.linear_model."
   ]
  },
  {
   "cell_type": "code",
   "execution_count": 11,
   "id": "9a8cfb8c-0206-4663-b255-c991300dfb17",
   "metadata": {},
   "outputs": [],
   "source": [
    "import numpy as np\n",
    "import matplotlib.pyplot as plt\n",
    "from sklearn.linear_model import LogisticRegression\n",
    "from sklearn import datasets\n",
    "from sklearn.preprocessing import StandardScaler"
   ]
  },
  {
   "cell_type": "markdown",
   "id": "a0bfd8e1-f999-48d9-8073-f74a4782b6c4",
   "metadata": {},
   "source": [
    "## Load the Dataset\n",
    "We will load the digits dataset using datasets.load_digits(return_X_y=True). We will also standardize the data using StandardScaler().fit_transform(X). The target variable will be binary, where 0-4 will be classified as 0 and 5-9 will be classified as 1."
   ]
  },
  {
   "cell_type": "code",
   "execution_count": 12,
   "id": "844f999d-bc0c-43b4-a611-903957dbfd8c",
   "metadata": {},
   "outputs": [],
   "source": [
    "X, y = datasets.load_digits(return_X_y=True)\n",
    "X = StandardScaler().fit_transform(X)\n",
    "y = (y > 4).astype(int)"
   ]
  },
  {
   "cell_type": "markdown",
   "id": "bd7d3734-6683-4ed7-b17a-e7b6260c5795",
   "metadata": {},
   "source": [
    "## Define Regularization Parameter and L1 Ratio\n",
    "We will define the regularization parameter C and the L1 ratio l1_ratio for the Elastic-Net penalty. We will set l1_ratio to 0.5."
   ]
  },
  {
   "cell_type": "code",
   "execution_count": 13,
   "id": "ba8741c2-3912-4e0c-b8c0-66f7180871ab",
   "metadata": {},
   "outputs": [],
   "source": [
    "l1_ratio = 0.5"
   ]
  },
  {
   "cell_type": "markdown",
   "id": "23cdfd1d-050e-429b-838a-0d559327a720",
   "metadata": {},
   "source": [
    "## Create Subplots for Visualization\n",
    "We will create subplots to visualize the coefficients of the models for varying C. We will create 3 rows and 3 columns of subplots."
   ]
  },
  {
   "cell_type": "code",
   "execution_count": 14,
   "id": "15051741-0ced-4638-bcc5-226bb6096f5c",
   "metadata": {},
   "outputs": [
    {
     "data": {
      "image/png": "[encoded data removed]",
      "text/plain": [
       "<Figure size 640x480 with 9 Axes>"
      ]
     },
     "metadata": {},
     "output_type": "display_data"
    }
   ],
   "source": [
    "fig, axes = plt.subplots(3, 3)"
   ]
  },
  {
   "cell_type": "markdown",
   "id": "cd351ce5-19e2-4342-a73b-5014ea108ef9",
   "metadata": {},
   "source": [
    "## Train Logistic Regression Models with Different Penalties and Regularization Parameters\n",
    "We will train logistic regression models with L1, L2, and Elastic-Net penalties and different values of C. We will increase the tolerance for short training time."
   ]
  },
  {
   "cell_type": "code",
   "execution_count": 15,
   "id": "be25079d-fa73-4ceb-8c6f-40143ce1ec6e",
   "metadata": {},
   "outputs": [],
   "source": [
    "for i, (C, axes_row) in enumerate(zip((1, 0.1, 0.01), axes)):\n",
    "    clf_l1_LR = LogisticRegression(C=C, penalty=\"l1\", tol=0.01, solver=\"saga\")\n",
    "    clf_l2_LR = LogisticRegression(C=C, penalty=\"l2\", tol=0.01, solver=\"saga\")\n",
    "    clf_en_LR = LogisticRegression(C=C, penalty=\"elasticnet\", solver=\"saga\", l1_ratio=l1_ratio, tol=0.01)\n",
    "    clf_l1_LR.fit(X, y)\n",
    "    clf_l2_LR.fit(X, y)\n",
    "    clf_en_LR.fit(X, y)"
   ]
  },
  {
   "cell_type": "markdown",
   "id": "ee0acb55-299c-4a94-b06e-ecc803d70f2e",
   "metadata": {},
   "source": [
    "## Calculate Sparsity and Scores\n",
    "We will calculate the sparsity (percentage of zero coefficients) and scores for each model."
   ]
  },
  {
   "cell_type": "code",
   "execution_count": 16,
   "id": "625e8384-8809-4014-b8ed-f1cb41a643ec",
   "metadata": {},
   "outputs": [],
   "source": [
    "    coef_l1_LR = clf_l1_LR.coef_.ravel()\n",
    "    coef_l2_LR = clf_l2_LR.coef_.ravel()\n",
    "    coef_en_LR = clf_en_LR.coef_.ravel()\n",
    "\n",
    "    sparsity_l1_LR = np.mean(coef_l1_LR == 0) * 100\n",
    "    sparsity_l2_LR = np.mean(coef_l2_LR == 0) * 100\n",
    "    sparsity_en_LR = np.mean(coef_en_LR == 0) * 100\n",
    "\n",
    "    score_l1_LR = clf_l1_LR.score(X, y)\n",
    "    score_l2_LR = clf_l2_LR.score(X, y)\n",
    "    score_en_LR = clf_en_LR.score(X, y)"
   ]
  },
  {
   "cell_type": "markdown",
   "id": "514bf5a0-7a1d-4cb8-af52-f9df25d617ca",
   "metadata": {},
   "source": [
    "## Visualize Coefficients\n",
    "We will visualize the coefficients of the models for each penalty and C value."
   ]
  },
  {
   "cell_type": "code",
   "execution_count": 17,
   "id": "d66e755a-53b1-4ee3-8a91-1b0cc32392b7",
   "metadata": {},
   "outputs": [],
   "source": [
    "    for ax, coefs in zip(axes_row, [coef_l1_LR, coef_en_LR, coef_l2_LR]):\n",
    "        ax.imshow(np.abs(coefs.reshape(8, 8)), interpolation='nearest', cmap='binary', vmax=1, vmin=0)\n",
    "        ax.set_xticks(())\n",
    "        ax.set_yticks(())"
   ]
  },
  {
   "cell_type": "markdown",
   "id": "e1e1ec4e-f6c5-4657-8cf2-798288725791",
   "metadata": {},
   "source": [
    "## Set Titles and Labels\n",
    "We will set the titles and labels for the subplots."
   ]
  },
  {
   "cell_type": "code",
   "execution_count": 18,
   "id": "f28cfe94-1b72-45f3-bc0e-d7ce930670a6",
   "metadata": {},
   "outputs": [
    {
     "data": {
      "text/plain": [
       "Text(4.444444444444445, 0.5, 'C = 0.01')"
      ]
     },
     "execution_count": 18,
     "metadata": {},
     "output_type": "execute_result"
    }
   ],
   "source": [
    "    if i == 0:\n",
    "        axes_row[0].set_title(\"L1 penalty\")\n",
    "        axes_row[1].set_title(\"Elastic-Net\\nl1_ratio = %s\" % l1_ratio)\n",
    "        axes_row[2].set_title(\"L2 penalty\")\n",
    "\n",
    "    axes_row[0].set_ylabel(\"C = %s\" % C)"
   ]
  },
  {
   "cell_type": "markdown",
   "id": "bcbafb7a-5185-4592-b2ef-dbff2352f2fe",
   "metadata": {},
   "source": [
    "##　Print Results\n",
    "We will print the sparsity and scores for each model."
   ]
  },
  {
   "cell_type": "code",
   "execution_count": 19,
   "id": "12b1bae6-cc3e-4eb5-8779-a533ab5258b7",
   "metadata": {},
   "outputs": [
    {
     "name": "stdout",
     "output_type": "stream",
     "text": [
      "C=0.01\n",
      "Sparsity with L1 penalty:                84.38%\n",
      "Sparsity with Elastic-Net penalty:       68.75%\n",
      "Sparsity with L2 penalty:                4.69%\n",
      "Score with L1 penalty:                   0.86\n",
      "Score with Elastic-Net penalty:          0.88\n",
      "Score with L2 penalty:                   0.89\n"
     ]
    }
   ],
   "source": [
    "    print(\"C=%.2f\" % C)\n",
    "    print(\"{:<40} {:.2f}%\".format(\"Sparsity with L1 penalty:\", sparsity_l1_LR))\n",
    "    print(\"{:<40} {:.2f}%\".format(\"Sparsity with Elastic-Net penalty:\", sparsity_en_LR))\n",
    "    print(\"{:<40} {:.2f}%\".format(\"Sparsity with L2 penalty:\", sparsity_l2_LR))\n",
    "    print(\"{:<40} {:.2f}\".format(\"Score with L1 penalty:\", score_l1_LR))\n",
    "    print(\"{:<40} {:.2f}\".format(\"Score with Elastic-Net penalty:\", score_en_LR))\n",
    "    print(\"{:<40} {:.2f}\".format(\"Score with L2 penalty:\", score_l2_LR))"
   ]
  },
  {
   "cell_type": "markdown",
   "id": "9fc7c831-5ed5-4f9d-a61e-b33fd906ceff",
   "metadata": {},
   "source": [
    "## Display Visualization\n",
    "We will display the subplots."
   ]
  },
  {
   "cell_type": "code",
   "execution_count": 20,
   "id": "590fdf0e-fde1-4afb-acfc-1b2f4b058f25",
   "metadata": {},
   "outputs": [],
   "source": [
    "plt.show()"
   ]
  },
  {
   "cell_type": "markdown",
   "id": "e7ee9f6d-dfd0-4f2a-b1fc-80b8773efcc9",
   "metadata": {},
   "source": [
    "## Summary\n",
    "In this lab, we explored the sparsity of solutions when L1, L2, and Elastic-Net penalty are used for different values of C. We used logistic regression to classify 8x8 images of digits into two classes: 0-4 against 5-9. We visualized the coefficients of the models for varying C. We also calculated the sparsity and scores for each model and printed the results."
   ]
  },
  {
   "cell_type": "code",
   "execution_count": null,
   "id": "9292d420-3e1f-4535-bcc8-14d90bc3df7d",
   "metadata": {},
   "outputs": [],
   "source": []
  }
 ],
 "metadata": {
  "kernelspec": {
   "display_name": "Python 3 (ipykernel)",
   "language": "python",
   "name": "python3"
  },
  "language_info": {
   "codemirror_mode": {
    "name": "ipython",
    "version": 3
   },
   "file_extension": ".py",
   "mimetype": "text/x-python",
   "name": "python",
   "nbconvert_exporter": "python",
   "pygments_lexer": "ipython3",
   "version": "3.13.3"
  }
 },
 "nbformat": 4,
 "nbformat_minor": 5
}
