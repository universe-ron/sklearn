{
 "cells": [
  {
   "cell_type": "markdown",
   "id": "9cb24ce8-c4fc-4ba0-8ab3-72ef3141ec12",
   "metadata": {},
   "source": [
    "## Dataset\n",
    "First, we will load the diabetes dataset using the load_diabetes function from sklearn.datasets. The dataset consists of 10 baseline variables, age, sex, body mass index, average blood pressure, and six blood serum measurements, and a quantitative measure of disease progression one year after baseline."
   ]
  },
  {
   "cell_type": "code",
   "execution_count": 13,
   "id": "25e3cf8b-e33e-4442-8a61-bb48d9af8b01",
   "metadata": {},
   "outputs": [],
   "source": [
    "from sklearn.datasets import load_diabetes\n",
    "from sklearn.preprocessing import StandardScaler\n",
    "from sklearn.linear_model import LassoLarsIC\n",
    "from sklearn.pipeline import make_pipeline\n",
    "import pandas as pd\n",
    "import numpy as np"
   ]
  },
  {
   "cell_type": "code",
   "execution_count": 14,
   "id": "24e042df-0c1d-4fe1-8849-5522f4815ed3",
   "metadata": {},
   "outputs": [
    {
     "data": {
      "text/html": [
       "<div>\n",
       "<style scoped>\n",
       "    .dataframe tbody tr th:only-of-type {\n",
       "        vertical-align: middle;\n",
       "    }\n",
       "\n",
       "    .dataframe tbody tr th {\n",
       "        vertical-align: top;\n",
       "    }\n",
       "\n",
       "    .dataframe thead th {\n",
       "        text-align: right;\n",
       "    }\n",
       "</style>\n",
       "<table border=\"1\" class=\"dataframe\">\n",
       "  <thead>\n",
       "    <tr style=\"text-align: right;\">\n",
       "      <th></th>\n",
       "      <th>age</th>\n",
       "      <th>sex</th>\n",
       "      <th>bmi</th>\n",
       "      <th>bp</th>\n",
       "      <th>s1</th>\n",
       "      <th>s2</th>\n",
       "      <th>s3</th>\n",
       "      <th>s4</th>\n",
       "      <th>s5</th>\n",
       "      <th>s6</th>\n",
       "    </tr>\n",
       "  </thead>\n",
       "  <tbody>\n",
       "    <tr>\n",
       "      <th>0</th>\n",
       "      <td>0.038076</td>\n",
       "      <td>0.05068</td>\n",
       "      <td>0.061696</td>\n",
       "      <td>0.021872</td>\n",
       "      <td>-0.044223</td>\n",
       "      <td>-0.034821</td>\n",
       "      <td>-0.043401</td>\n",
       "      <td>-0.002592</td>\n",
       "      <td>0.019907</td>\n",
       "      <td>-0.017646</td>\n",
       "    </tr>\n",
       "  </tbody>\n",
       "</table>\n",
       "</div>"
      ],
      "text/plain": [
       "        age      sex       bmi        bp        s1        s2        s3  \\\n",
       "0  0.038076  0.05068  0.061696  0.021872 -0.044223 -0.034821 -0.043401   \n",
       "\n",
       "         s4        s5        s6  \n",
       "0 -0.002592  0.019907 -0.017646  "
      ]
     },
     "execution_count": 14,
     "metadata": {},
     "output_type": "execute_result"
    }
   ],
   "source": [
    "X, y = load_diabetes(return_X_y=True, as_frame=True)\n",
    "X.head(1)"
   ]
  },
  {
   "cell_type": "markdown",
   "id": "047c133e-d4e0-47c0-9211-051085e51c52",
   "metadata": {},
   "source": [
    "## Adding Random Features\n",
    "We will add some random features to the original data to better illustrate the feature selection performed by the Lasso model. Random features will be generated using the RandomState function from numpy."
   ]
  },
  {
   "cell_type": "code",
   "execution_count": 15,
   "id": "bc95ae70-dace-4092-8c30-21ed3e078ac3",
   "metadata": {},
   "outputs": [
    {
     "data": {
      "text/html": [
       "<div>\n",
       "<style scoped>\n",
       "    .dataframe tbody tr th:only-of-type {\n",
       "        vertical-align: middle;\n",
       "    }\n",
       "\n",
       "    .dataframe tbody tr th {\n",
       "        vertical-align: top;\n",
       "    }\n",
       "\n",
       "    .dataframe thead th {\n",
       "        text-align: right;\n",
       "    }\n",
       "</style>\n",
       "<table border=\"1\" class=\"dataframe\">\n",
       "  <thead>\n",
       "    <tr style=\"text-align: right;\">\n",
       "      <th></th>\n",
       "      <th>age</th>\n",
       "      <th>bp</th>\n",
       "      <th>s3</th>\n",
       "      <th>s6</th>\n",
       "      <th>random_02</th>\n",
       "      <th>random_05</th>\n",
       "      <th>random_08</th>\n",
       "      <th>random_11</th>\n",
       "    </tr>\n",
       "  </thead>\n",
       "  <tbody>\n",
       "    <tr>\n",
       "      <th>0</th>\n",
       "      <td>0.038076</td>\n",
       "      <td>0.021872</td>\n",
       "      <td>-0.043401</td>\n",
       "      <td>-0.017646</td>\n",
       "      <td>0.647689</td>\n",
       "      <td>-0.234137</td>\n",
       "      <td>-0.469474</td>\n",
       "      <td>-0.46573</td>\n",
       "    </tr>\n",
       "  </tbody>\n",
       "</table>\n",
       "</div>"
      ],
      "text/plain": [
       "        age        bp        s3        s6  random_02  random_05  random_08  \\\n",
       "0  0.038076  0.021872 -0.043401 -0.017646   0.647689  -0.234137  -0.469474   \n",
       "\n",
       "   random_11  \n",
       "0   -0.46573  "
      ]
     },
     "execution_count": 15,
     "metadata": {},
     "output_type": "execute_result"
    }
   ],
   "source": [
    "import numpy as np\n",
    "import pandas as pd\n",
    "\n",
    "rng = np.random.RandomState(42)\n",
    "n_random_features = 14\n",
    "X_random = pd.DataFrame(\n",
    "    rng.randn(X.shape[0], n_random_features),\n",
    "    columns=[f\"random_{i:02d}\" for i in range(n_random_features)],\n",
    ")\n",
    "X = pd.concat([X, X_random], axis=1)\n",
    "X[X.columns[::3]].head(1)"
   ]
  },
  {
   "cell_type": "markdown",
   "id": "34815ca8-5e48-43cf-88f4-b2f27b2bc0d6",
   "metadata": {},
   "source": [
    "## Selecting Lasso via an Information Criterion\n",
    "We will use the LassoLarsIC function from sklearn.linear_model to provide a Lasso estimator that uses the Akaike information criterion (AIC) or the Bayes information criterion (BIC) to select the optimal value of the regularization parameter alpha. We will first fit a Lasso model with the AIC criterion."
   ]
  },
  {
   "cell_type": "code",
   "execution_count": 16,
   "id": "263cc434-ae1e-4931-8bc0-4cae0b0cf5eb",
   "metadata": {},
   "outputs": [],
   "source": [
    "import time\n",
    "from sklearn.preprocessing import StandardScaler\n",
    "from sklearn.linear_model import LassoLarsIC\n",
    "from sklearn.pipeline import make_pipeline\n",
    "\n",
    "start_time = time.time()\n",
    "lasso_lars_ic = make_pipeline(StandardScaler(), LassoLarsIC(criterion=\"aic\")).fit(X, y)\n",
    "fit_time = time.time() - start_time"
   ]
  },
  {
   "cell_type": "markdown",
   "id": "30e05032-a890-4daf-b80a-3fd10e906bd3",
   "metadata": {},
   "source": [
    "## Storing Results and Checking Optimal Alpha\n",
    "We will store the AIC metric for each value of alpha used during fit. We will then perform the same analysis using the BIC criterion. Finally, we will check which value of alpha leads to the minimum AIC and BIC."
   ]
  },
  {
   "cell_type": "code",
   "execution_count": 17,
   "id": "3e571b35-2bae-4f92-bfbb-6f63a86d086b",
   "metadata": {},
   "outputs": [
    {
     "data": {
      "text/html": [
       "<style type=\"text/css\">\n",
       "#T_eaff9_row6_col1, #T_eaff9_row21_col0 {\n",
       "  font-weight: bold;\n",
       "}\n",
       "</style>\n",
       "<table id=\"T_eaff9\">\n",
       "  <thead>\n",
       "    <tr>\n",
       "      <th class=\"blank level0\" >&nbsp;</th>\n",
       "      <th id=\"T_eaff9_level0_col0\" class=\"col_heading level0 col0\" >AIC criterion</th>\n",
       "      <th id=\"T_eaff9_level0_col1\" class=\"col_heading level0 col1\" >BIC criterion</th>\n",
       "    </tr>\n",
       "    <tr>\n",
       "      <th class=\"index_name level0\" >alphas</th>\n",
       "      <th class=\"blank col0\" >&nbsp;</th>\n",
       "      <th class=\"blank col1\" >&nbsp;</th>\n",
       "    </tr>\n",
       "  </thead>\n",
       "  <tbody>\n",
       "    <tr>\n",
       "      <th id=\"T_eaff9_level0_row0\" class=\"row_heading level0 row0\" >45.160030</th>\n",
       "      <td id=\"T_eaff9_row0_col0\" class=\"data row0 col0\" >5244.764779</td>\n",
       "      <td id=\"T_eaff9_row0_col1\" class=\"data row0 col1\" >5244.764779</td>\n",
       "    </tr>\n",
       "    <tr>\n",
       "      <th id=\"T_eaff9_level0_row1\" class=\"row_heading level0 row1\" >42.300343</th>\n",
       "      <td id=\"T_eaff9_row1_col0\" class=\"data row1 col0\" >5208.250639</td>\n",
       "      <td id=\"T_eaff9_row1_col1\" class=\"data row1 col1\" >5212.341949</td>\n",
       "    </tr>\n",
       "    <tr>\n",
       "      <th id=\"T_eaff9_level0_row2\" class=\"row_heading level0 row2\" >21.542052</th>\n",
       "      <td id=\"T_eaff9_row2_col0\" class=\"data row2 col0\" >4928.018900</td>\n",
       "      <td id=\"T_eaff9_row2_col1\" class=\"data row2 col1\" >4936.201520</td>\n",
       "    </tr>\n",
       "    <tr>\n",
       "      <th id=\"T_eaff9_level0_row3\" class=\"row_heading level0 row3\" >15.034077</th>\n",
       "      <td id=\"T_eaff9_row3_col0\" class=\"data row3 col0\" >4869.678359</td>\n",
       "      <td id=\"T_eaff9_row3_col1\" class=\"data row3 col1\" >4881.952289</td>\n",
       "    </tr>\n",
       "    <tr>\n",
       "      <th id=\"T_eaff9_level0_row4\" class=\"row_heading level0 row4\" >6.189631</th>\n",
       "      <td id=\"T_eaff9_row4_col0\" class=\"data row4 col0\" >4815.437362</td>\n",
       "      <td id=\"T_eaff9_row4_col1\" class=\"data row4 col1\" >4831.802601</td>\n",
       "    </tr>\n",
       "    <tr>\n",
       "      <th id=\"T_eaff9_level0_row5\" class=\"row_heading level0 row5\" >5.329616</th>\n",
       "      <td id=\"T_eaff9_row5_col0\" class=\"data row5 col0\" >4810.423641</td>\n",
       "      <td id=\"T_eaff9_row5_col1\" class=\"data row5 col1\" >4830.880191</td>\n",
       "    </tr>\n",
       "    <tr>\n",
       "      <th id=\"T_eaff9_level0_row6\" class=\"row_heading level0 row6\" >4.306012</th>\n",
       "      <td id=\"T_eaff9_row6_col0\" class=\"data row6 col0\" >4803.573491</td>\n",
       "      <td id=\"T_eaff9_row6_col1\" class=\"data row6 col1\" >4828.121351</td>\n",
       "    </tr>\n",
       "    <tr>\n",
       "      <th id=\"T_eaff9_level0_row7\" class=\"row_heading level0 row7\" >4.124225</th>\n",
       "      <td id=\"T_eaff9_row7_col0\" class=\"data row7 col0\" >4804.126502</td>\n",
       "      <td id=\"T_eaff9_row7_col1\" class=\"data row7 col1\" >4832.765671</td>\n",
       "    </tr>\n",
       "    <tr>\n",
       "      <th id=\"T_eaff9_level0_row8\" class=\"row_heading level0 row8\" >3.820705</th>\n",
       "      <td id=\"T_eaff9_row8_col0\" class=\"data row8 col0\" >4803.621645</td>\n",
       "      <td id=\"T_eaff9_row8_col1\" class=\"data row8 col1\" >4836.352124</td>\n",
       "    </tr>\n",
       "    <tr>\n",
       "      <th id=\"T_eaff9_level0_row9\" class=\"row_heading level0 row9\" >3.750389</th>\n",
       "      <td id=\"T_eaff9_row9_col0\" class=\"data row9 col0\" >4805.012521</td>\n",
       "      <td id=\"T_eaff9_row9_col1\" class=\"data row9 col1\" >4841.834310</td>\n",
       "    </tr>\n",
       "    <tr>\n",
       "      <th id=\"T_eaff9_level0_row10\" class=\"row_heading level0 row10\" >3.570655</th>\n",
       "      <td id=\"T_eaff9_row10_col0\" class=\"data row10 col0\" >4805.290075</td>\n",
       "      <td id=\"T_eaff9_row10_col1\" class=\"data row10 col1\" >4846.203174</td>\n",
       "    </tr>\n",
       "    <tr>\n",
       "      <th id=\"T_eaff9_level0_row11\" class=\"row_heading level0 row11\" >3.550213</th>\n",
       "      <td id=\"T_eaff9_row11_col0\" class=\"data row11 col0\" >4807.075887</td>\n",
       "      <td id=\"T_eaff9_row11_col1\" class=\"data row11 col1\" >4852.080295</td>\n",
       "    </tr>\n",
       "    <tr>\n",
       "      <th id=\"T_eaff9_level0_row12\" class=\"row_heading level0 row12\" >3.358295</th>\n",
       "      <td id=\"T_eaff9_row12_col0\" class=\"data row12 col0\" >4806.878051</td>\n",
       "      <td id=\"T_eaff9_row12_col1\" class=\"data row12 col1\" >4855.973770</td>\n",
       "    </tr>\n",
       "    <tr>\n",
       "      <th id=\"T_eaff9_level0_row13\" class=\"row_heading level0 row13\" >3.259297</th>\n",
       "      <td id=\"T_eaff9_row13_col0\" class=\"data row13 col0\" >4807.706026</td>\n",
       "      <td id=\"T_eaff9_row13_col1\" class=\"data row13 col1\" >4860.893055</td>\n",
       "    </tr>\n",
       "    <tr>\n",
       "      <th id=\"T_eaff9_level0_row14\" class=\"row_heading level0 row14\" >3.237703</th>\n",
       "      <td id=\"T_eaff9_row14_col0\" class=\"data row14 col0\" >4809.440409</td>\n",
       "      <td id=\"T_eaff9_row14_col1\" class=\"data row14 col1\" >4866.718747</td>\n",
       "    </tr>\n",
       "    <tr>\n",
       "      <th id=\"T_eaff9_level0_row15\" class=\"row_heading level0 row15\" >2.850031</th>\n",
       "      <td id=\"T_eaff9_row15_col0\" class=\"data row15 col0\" >4805.989341</td>\n",
       "      <td id=\"T_eaff9_row15_col1\" class=\"data row15 col1\" >4867.358990</td>\n",
       "    </tr>\n",
       "    <tr>\n",
       "      <th id=\"T_eaff9_level0_row16\" class=\"row_heading level0 row16\" >2.384338</th>\n",
       "      <td id=\"T_eaff9_row16_col0\" class=\"data row16 col0\" >4801.702266</td>\n",
       "      <td id=\"T_eaff9_row16_col1\" class=\"data row16 col1\" >4867.163224</td>\n",
       "    </tr>\n",
       "    <tr>\n",
       "      <th id=\"T_eaff9_level0_row17\" class=\"row_heading level0 row17\" >2.296575</th>\n",
       "      <td id=\"T_eaff9_row17_col0\" class=\"data row17 col0\" >4802.594754</td>\n",
       "      <td id=\"T_eaff9_row17_col1\" class=\"data row17 col1\" >4872.147022</td>\n",
       "    </tr>\n",
       "    <tr>\n",
       "      <th id=\"T_eaff9_level0_row18\" class=\"row_heading level0 row18\" >2.031555</th>\n",
       "      <td id=\"T_eaff9_row18_col0\" class=\"data row18 col0\" >4801.236720</td>\n",
       "      <td id=\"T_eaff9_row18_col1\" class=\"data row18 col1\" >4874.880298</td>\n",
       "    </tr>\n",
       "    <tr>\n",
       "      <th id=\"T_eaff9_level0_row19\" class=\"row_heading level0 row19\" >1.618263</th>\n",
       "      <td id=\"T_eaff9_row19_col0\" class=\"data row19 col0\" >4798.484109</td>\n",
       "      <td id=\"T_eaff9_row19_col1\" class=\"data row19 col1\" >4876.218997</td>\n",
       "    </tr>\n",
       "    <tr>\n",
       "      <th id=\"T_eaff9_level0_row20\" class=\"row_heading level0 row20\" >1.526599</th>\n",
       "      <td id=\"T_eaff9_row20_col0\" class=\"data row20 col0\" >4799.543841</td>\n",
       "      <td id=\"T_eaff9_row20_col1\" class=\"data row20 col1\" >4881.370039</td>\n",
       "    </tr>\n",
       "    <tr>\n",
       "      <th id=\"T_eaff9_level0_row21\" class=\"row_heading level0 row21\" >0.586798</th>\n",
       "      <td id=\"T_eaff9_row21_col0\" class=\"data row21 col0\" >4794.238744</td>\n",
       "      <td id=\"T_eaff9_row21_col1\" class=\"data row21 col1\" >4880.156252</td>\n",
       "    </tr>\n",
       "    <tr>\n",
       "      <th id=\"T_eaff9_level0_row22\" class=\"row_heading level0 row22\" >0.445978</th>\n",
       "      <td id=\"T_eaff9_row22_col0\" class=\"data row22 col0\" >4795.589715</td>\n",
       "      <td id=\"T_eaff9_row22_col1\" class=\"data row22 col1\" >4885.598533</td>\n",
       "    </tr>\n",
       "    <tr>\n",
       "      <th id=\"T_eaff9_level0_row23\" class=\"row_heading level0 row23\" >0.259031</th>\n",
       "      <td id=\"T_eaff9_row23_col0\" class=\"data row23 col0\" >4796.966981</td>\n",
       "      <td id=\"T_eaff9_row23_col1\" class=\"data row23 col1\" >4891.067109</td>\n",
       "    </tr>\n",
       "    <tr>\n",
       "      <th id=\"T_eaff9_level0_row24\" class=\"row_heading level0 row24\" >0.032179</th>\n",
       "      <td id=\"T_eaff9_row24_col0\" class=\"data row24 col0\" >4794.662409</td>\n",
       "      <td id=\"T_eaff9_row24_col1\" class=\"data row24 col1\" >4888.762537</td>\n",
       "    </tr>\n",
       "    <tr>\n",
       "      <th id=\"T_eaff9_level0_row25\" class=\"row_heading level0 row25\" >0.019069</th>\n",
       "      <td id=\"T_eaff9_row25_col0\" class=\"data row25 col0\" >4794.652739</td>\n",
       "      <td id=\"T_eaff9_row25_col1\" class=\"data row25 col1\" >4888.752867</td>\n",
       "    </tr>\n",
       "    <tr>\n",
       "      <th id=\"T_eaff9_level0_row26\" class=\"row_heading level0 row26\" >0.000000</th>\n",
       "      <td id=\"T_eaff9_row26_col0\" class=\"data row26 col0\" >4796.626286</td>\n",
       "      <td id=\"T_eaff9_row26_col1\" class=\"data row26 col1\" >4894.817724</td>\n",
       "    </tr>\n",
       "  </tbody>\n",
       "</table>\n"
      ],
      "text/plain": [
       "<pandas.io.formats.style.Styler at 0x1e4dd365f90>"
      ]
     },
     "execution_count": 17,
     "metadata": {},
     "output_type": "execute_result"
    }
   ],
   "source": [
    "results = pd.DataFrame(\n",
    "    {\n",
    "        \"alphas\": lasso_lars_ic[-1].alphas_,\n",
    "        \"AIC criterion\": lasso_lars_ic[-1].criterion_,\n",
    "    }\n",
    ").set_index(\"alphas\")\n",
    "alpha_aic = lasso_lars_ic[-1].alpha_\n",
    "\n",
    "lasso_lars_ic.set_params(lassolarsic__criterion=\"bic\").fit(X, y)\n",
    "results[\"BIC criterion\"] = lasso_lars_ic[-1].criterion_\n",
    "alpha_bic = lasso_lars_ic[-1].alpha_\n",
    "\n",
    "def highlight_min(x):\n",
    "    x_min = x.min()\n",
    "    return [\"font-weight: bold\" if v == x_min else \"\" for v in x]\n",
    "\n",
    "results.style.apply(highlight_min)"
   ]
  },
  {
   "cell_type": "markdown",
   "id": "f7d307b4-20e5-474e-af74-44573d34badc",
   "metadata": {},
   "source": [
    "## Plotting AIC and BIC Values\n",
    "Finally, we will plot the AIC and BIC values for the different alpha values. The vertical lines in the plot correspond to the alpha chosen for each criterion. The selected alpha corresponds to the minimum of the AIC or BIC criterion."
   ]
  },
  {
   "cell_type": "code",
   "execution_count": 18,
   "id": "05f46e9b-e78a-4cba-a704-9de13f2b2e36",
   "metadata": {},
   "outputs": [
    {
     "data": {
      "image/png": "[encoded data removed]",
      "text/plain": [
       "<Figure size 640x480 with 1 Axes>"
      ]
     },
     "metadata": {},
     "output_type": "display_data"
    }
   ],
   "source": [
    "ax = results.plot()\n",
    "ax.vlines(\n",
    "    alpha_aic,\n",
    "    results[\"AIC criterion\"].min(),\n",
    "    results[\"AIC criterion\"].max(),\n",
    "    label=\"alpha: AIC estimate\",\n",
    "    linestyles=\"--\",\n",
    "    color=\"tab:blue\",\n",
    ")\n",
    "ax.vlines(\n",
    "    alpha_bic,\n",
    "    results[\"BIC criterion\"].min(),\n",
    "    results[\"BIC criterion\"].max(),\n",
    "    label=\"alpha: BIC estimate\",\n",
    "    linestyle=\"--\",\n",
    "    color=\"tab:orange\",\n",
    ")\n",
    "ax.set_xlabel(r\"$\\alpha$\")\n",
    "ax.set_ylabel(\"criterion\")\n",
    "ax.set_xscale(\"log\")\n",
    "ax.legend()\n",
    "_ = ax.set_title(\n",
    "    f\"Information-criterion for model selection (training time {fit_time:.2f}s)\"\n",
    ")"
   ]
  },
  {
   "cell_type": "markdown",
   "id": "37d9a0d5-e2d0-47be-a6ef-3c32eab438f6",
   "metadata": {},
   "source": [
    "## Selecting Lasso via Cross-Validation\n",
    "We will use two different estimators to select the best hyperparameter alpha with integrated cross-validation: LassoCV and LassoLarsCV. For both algorithms, we will use a 20-fold cross-validation strategy."
   ]
  },
  {
   "cell_type": "markdown",
   "id": "43bdf0bd-2db8-4f2f-b14c-72fb272f0a33",
   "metadata": {},
   "source": [
    "## Lasso via Coordinate Descent\n",
    "We will make the hyperparameter tuning using LassoCV."
   ]
  },
  {
   "cell_type": "code",
   "execution_count": 19,
   "id": "dc2c5d36-3429-49bf-8e64-f25e0fc86d1f",
   "metadata": {},
   "outputs": [],
   "source": [
    "from sklearn.linear_model import LassoCV\n",
    "\n",
    "start_time = time.time()\n",
    "model = make_pipeline(StandardScaler(), LassoCV(cv=20)).fit(X, y)\n",
    "fit_time = time.time() - start_time"
   ]
  },
  {
   "cell_type": "markdown",
   "id": "4f5248cd-83e9-4ebc-996e-19a44cb4c8f1",
   "metadata": {},
   "source": [
    "## Lasso via Least Angle Regression\n",
    "We will make the hyperparameter tuning using LassoLarsCV."
   ]
  },
  {
   "cell_type": "code",
   "execution_count": 20,
   "id": "54ce4339-d8aa-447b-8172-2f233433efec",
   "metadata": {},
   "outputs": [],
   "source": [
    "from sklearn.linear_model import LassoLarsCV\n",
    "\n",
    "start_time = time.time()\n",
    "model = make_pipeline(StandardScaler(), LassoLarsCV(cv=20)).fit(X, y)\n",
    "fit_time = time.time() - start_time\n",
    "\n",
    "import warnings\n",
    "from sklearn.exceptions import ConvergenceWarning\n",
    "\n",
    "with warnings.catch_warnings():\n",
    "    warnings.filterwarnings(\"ignore\", category=ConvergenceWarning)\n",
    "    model = make_pipeline(StandardScaler(), LassoLarsCV(cv=20)).fit(X, y)"
   ]
  },
  {
   "cell_type": "markdown",
   "id": "52e9c2d5-cf59-4030-a821-13c944aeb720",
   "metadata": {},
   "source": [
    "## Summary of Cross-Validation Approach\n",
    "* Both algorithms give roughly the same results.\n",
    "* Lars computes a solution path only for each kink in the path. As a result, it is very efficient when there are only of few kinks, which is the case if there are few features or samples.\n",
    "* On the opposite, coordinate descent computes the path points on a pre-specified grid (here we use the default).\n",
    "* Thus it is more efficient if the number of grid points is smaller than the number of kinks in the path.\n",
    "* Such a strategy can be interesting if the number of features is really large and there are enough samples to be selected in each of the cross-validation fold.\n",
    "* In terms of numerical errors, for heavily correlated variables, Lars will accumulate more errors, while the coordinate descent algorithm will only sample the path on a grid."
   ]
  },
  {
   "cell_type": "markdown",
   "id": "129b831c-4235-40c2-9d24-a4c60558cc6f",
   "metadata": {},
   "source": [
    "| 流程步驟 | 重點 |\n",
    "|---------|------|\n",
    "| **1. 讀資料** | 用 `load_diabetes` 把 442 筆病患資料載進來（10 個原始特徵 + 目標 y）。 |\n",
    "| **2. 加亂數特徵** | 再塞 **14 個隨機欄位**，故意干擾 → 等下看 Lasso 能不能把它們踢掉。 |\n",
    "| **3. 用 AIC / BIC 挑 Lasso** | `LassoLarsIC` 一次掃過整條 α 路徑： <br>  •  算出每個 α 的 **AIC / BIC** 分數 <br>  •  找到分數最低的 α（圖上兩條虛線） |\n",
    "| **4. 結果觀察** | AIC 通常選 **較小 α → 模型較複雜**；BIC 偏愛 **較大 α → 模型較精簡**。|\n",
    "| **5. 交叉驗證 PK** | 再用 `LassoCV`（座標下降） 與 `LassoLarsCV`（LARS）做 20 折 CV： <br>  •  兩者 α 差不多 <br>  •  **LARS**：只在「轉折點」算解 → 特徵少時超快 <br>  •  **座標下降**：先定好 α 網格 → 若網格少、特徵多時更快 |\n",
    "| **6. 速度&誤差比較** | - LARS 可能累積誤差（特徵高度相關時） <br> - 座標下降較穩，但要小心網格太粗會漏掉好 α |\n",
    "\n",
    "---\n",
    "\n",
    "#### 什麼時候用哪一招？\n",
    "| 場景 | 推薦方法 | 為什麼 |\n",
    "|------|----------|--------|\n",
    "| 特徵不多、想快點挑 α | **LassoLarsIC** + AIC/BIC 或 **LassoLarsCV** | 路徑轉折點少，LARS 跑很快；IC 又省下 CV。 |\n",
    "| 特徵超多 (上千)、資料夠多 | **LassoCV** (座標下降) | 網格點 < 轉折點 → 反而最快；數值也較穩。 |\n",
    "| 不想切驗證集 / 資料太小 | **LassoLarsIC** (AIC/BIC) | 不用 CV，省資料、省時間。 |\n",
    "\n",
    "---\n",
    "\n",
    "> **一句話**  \n",
    "> 加了 14 個亂數特徵之後，Lasso + AIC/BIC 依然能「嗅」出真正有用的變數；若時間充裕也能用交叉驗證 double-check，兩種方法各有快慢與穩定度取捨。\n"
   ]
  },
  {
   "cell_type": "code",
   "execution_count": null,
   "id": "8b368ecd-1172-4618-8e03-e3f45305ab6e",
   "metadata": {},
   "outputs": [],
   "source": []
  }
 ],
 "metadata": {
  "kernelspec": {
   "display_name": "Python 3 (ipykernel)",
   "language": "python",
   "name": "python3"
  },
  "language_info": {
   "codemirror_mode": {
    "name": "ipython",
    "version": 3
   },
   "file_extension": ".py",
   "mimetype": "text/x-python",
   "name": "python",
   "nbconvert_exporter": "python",
   "pygments_lexer": "ipython3",
   "version": "3.13.3"
  }
 },
 "nbformat": 4,
 "nbformat_minor": 5
}
