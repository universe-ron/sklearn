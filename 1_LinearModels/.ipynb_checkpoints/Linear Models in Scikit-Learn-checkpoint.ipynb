{
 "cells": [
  {
   "cell_type": "markdown",
   "id": "746ae7b3-1e29-41db-ac9a-52442b1fb4e7",
   "metadata": {},
   "source": [
    "#### **Ordinary Least Squares (OLS) is a linear regression method that minimizes the sum of squared differences between the observed targets and the predicted targets.**\n",
    "---"
   ]
  },
  {
   "cell_type": "markdown",
   "id": "1db106c0-39be-4fb3-a3a3-6d6c20a1ce12",
   "metadata": {},
   "source": [
    "# Ordinary Least Squares (OLS) 回歸介紹\n",
    "\n",
    "**Ordinary Least Squares (OLS)** 是線性回歸中最常用的方法，目的是找出一條最佳直線，使預測值與實際值之間的**誤差平方和（Sum of Squared Errors, SSE）最小**。\n",
    "\n",
    "---\n",
    "線性模型假設為：\n",
    "$$y = X\\beta + \\varepsilon$$\n",
    "\n",
    "給定資料集：\n",
    "<ul>\n",
    "  <li>\\( y \\in \\mathbb{R}^n \\)：目標變數（response vector）</li>\n",
    "  <li>\\( X \\in \\mathbb{R}^{n \\times p} \\)：解釋變數矩陣（design matrix）</li>\n",
    "  <li>\\( \\beta \\in \\mathbb{R}^p \\)：模型參數</li>\n",
    "  <li>\\( \\varepsilon \\in \\mathbb{R}^n \\)：誤差項</li>\n",
    "</ul>\n",
    "\n",
    "\n",
    "---\n",
    "\n",
    "最佳化目標，OLS 要最小化的損失函數（誤差平方和）為：$ \\min_{\\beta} \\; \\| y - X\\beta \\|^2 $\n",
    "\n",
    "---\n",
    "\n",
    "導出解（Closed-form solution），將損失函數對 $\\beta$ 微分並設為 0，得到 OLS 的封閉解為：$ \\hat{\\beta} = (X^\\top X)^{-1} X^\\top y $\n",
    "\n",
    "> **條件**：$X^\\top X$ 必須為可逆矩陣（通常需滿足 X 無完全共線性）\n",
    "\n",
    "---\n",
    "\n",
    "### 應用場景\n",
    "\n",
    "OLS 廣泛應用於：\n",
    "- 預測與解釋變數間線性關係\n",
    "- 特徵選擇與初步建模\n",
    "- 經濟學、社會科學、機器學習中的基礎模型\n",
    "\n",
    "---\n",
    "\n",
    "### 參考\n",
    "\n",
    "- Hastie, Tibshirani, and Friedman, *The Elements of Statistical Learning*\n",
    "- ISLR, *An Introduction to Statistical Learning*\n",
    "\n"
   ]
  },
  {
   "cell_type": "markdown",
   "id": "078e8471-e7ba-4b8e-aae6-1448f555c238",
   "metadata": {},
   "source": [
    "#### Let's start by fitting a linear regression model using OLS."
   ]
  },
  {
   "cell_type": "code",
   "execution_count": 2,
   "id": "aaf6d2a6-4108-4a02-bd2e-2630740c6087",
   "metadata": {},
   "outputs": [
    {
     "name": "stdout",
     "output_type": "stream",
     "text": [
      "[0.5 0.5]\n"
     ]
    }
   ],
   "source": [
    "from sklearn import linear_model\n",
    "\n",
    "reg = linear_model.LinearRegression()\n",
    "X = [[0, 0], [1, 1], [2, 2]]\n",
    "y = [0, 1, 2]\n",
    "reg.fit(X, y)\n",
    "\n",
    "print(reg.coef_)"
   ]
  },
  {
   "cell_type": "markdown",
   "id": "0b905148-81c2-4426-b620-f5e6fb879633",
   "metadata": {},
   "source": [
    "*  We import the linear_model module from scikit-learn.\n",
    "*  We create an instance of LinearRegression.\n",
    "*  We use the fit method to fit the model to the training data.\n",
    "*  We print the coefficients of the linear model."
   ]
  },
  {
   "cell_type": "code",
   "execution_count": null,
   "id": "5b91206c-1054-4b7d-a217-831f8ac0f896",
   "metadata": {},
   "outputs": [],
   "source": [
    "# 1. 安裝 kaggle（若還沒裝）\n",
    "#!pip install kaggle\n",
    "\n",
    "# 2. 上傳 kaggle.json（手動或程式處理）\n",
    "# from google.colab import files\n",
    "# files.upload()  # 上傳 kaggle.json\n",
    "\n",
    "# 3. 移動到 ~/.kaggle 並設定權限\n",
    "# !mkdir -p ~/.kaggle\n",
    "# !cp kaggle.json ~/.kaggle/\n",
    "# !chmod 600 ~/.kaggle/kaggle.json\n",
    "\n",
    "# 4. 下載資料集\n",
    "# !kaggle datasets download -d hellbuoy/car-price-prediction\n",
    "\n",
    "# 5. 解壓縮\n",
    "# !unzip car-price-prediction.zip\n"
   ]
  },
  {
   "cell_type": "code",
   "execution_count": 3,
   "id": "2bab066f-42ae-4a7e-aad9-5f5f210c279e",
   "metadata": {},
   "outputs": [
    {
     "name": "stdout",
     "output_type": "stream",
     "text": [
      "R² 分數：0.9097\n",
      "RMSE：2669.93\n",
      "\n",
      "特徵影響力（依係數絕對值排序）:\n",
      "                  Feature  Coefficient\n",
      "23    enginelocation_rear  8055.620180\n",
      "34  cylindernumber_twelve -6143.077377\n",
      "44           CarBrand_bmw  5392.010857\n",
      "47         CarBrand_dodge -5179.311730\n",
      "53    CarBrand_mitsubishi -5176.485800\n",
      "56      CarBrand_plymouth -5105.084481\n",
      "60        CarBrand_subaru -5042.595540\n",
      "24       enginetype_dohcv -4933.558543\n",
      "46     CarBrand_chevrolet -4383.734561\n",
      "7               boreratio -4157.029889\n"
     ]
    },
    {
     "name": "stderr",
     "output_type": "stream",
     "text": [
      "C:\\Users\\60322\\AppData\\Local\\Programs\\Python\\Python313\\Lib\\site-packages\\IPython\\core\\pylabtools.py:170: UserWarning: Glyph 38928 (\\N{CJK UNIFIED IDEOGRAPH-9810}) missing from font(s) DejaVu Sans.\n",
      "  fig.canvas.print_figure(bytes_io, **kw)\n",
      "C:\\Users\\60322\\AppData\\Local\\Programs\\Python\\Python313\\Lib\\site-packages\\IPython\\core\\pylabtools.py:170: UserWarning: Glyph 28204 (\\N{CJK UNIFIED IDEOGRAPH-6E2C}) missing from font(s) DejaVu Sans.\n",
      "  fig.canvas.print_figure(bytes_io, **kw)\n",
      "C:\\Users\\60322\\AppData\\Local\\Programs\\Python\\Python313\\Lib\\site-packages\\IPython\\core\\pylabtools.py:170: UserWarning: Glyph 20729 (\\N{CJK UNIFIED IDEOGRAPH-50F9}) missing from font(s) DejaVu Sans.\n",
      "  fig.canvas.print_figure(bytes_io, **kw)\n",
      "C:\\Users\\60322\\AppData\\Local\\Programs\\Python\\Python313\\Lib\\site-packages\\IPython\\core\\pylabtools.py:170: UserWarning: Glyph 26684 (\\N{CJK UNIFIED IDEOGRAPH-683C}) missing from font(s) DejaVu Sans.\n",
      "  fig.canvas.print_figure(bytes_io, **kw)\n",
      "C:\\Users\\60322\\AppData\\Local\\Programs\\Python\\Python313\\Lib\\site-packages\\IPython\\core\\pylabtools.py:170: UserWarning: Glyph 23526 (\\N{CJK UNIFIED IDEOGRAPH-5BE6}) missing from font(s) DejaVu Sans.\n",
      "  fig.canvas.print_figure(bytes_io, **kw)\n",
      "C:\\Users\\60322\\AppData\\Local\\Programs\\Python\\Python313\\Lib\\site-packages\\IPython\\core\\pylabtools.py:170: UserWarning: Glyph 38555 (\\N{CJK UNIFIED IDEOGRAPH-969B}) missing from font(s) DejaVu Sans.\n",
      "  fig.canvas.print_figure(bytes_io, **kw)\n",
      "C:\\Users\\60322\\AppData\\Local\\Programs\\Python\\Python313\\Lib\\site-packages\\IPython\\core\\pylabtools.py:170: UserWarning: Glyph 27773 (\\N{CJK UNIFIED IDEOGRAPH-6C7D}) missing from font(s) DejaVu Sans.\n",
      "  fig.canvas.print_figure(bytes_io, **kw)\n",
      "C:\\Users\\60322\\AppData\\Local\\Programs\\Python\\Python313\\Lib\\site-packages\\IPython\\core\\pylabtools.py:170: UserWarning: Glyph 36554 (\\N{CJK UNIFIED IDEOGRAPH-8ECA}) missing from font(s) DejaVu Sans.\n",
      "  fig.canvas.print_figure(bytes_io, **kw)\n"
     ]
    },
    {
     "data": {
      "image/png": "[encoded data removed]",
      "text/plain": [
       "<Figure size 800x600 with 1 Axes>"
      ]
     },
     "metadata": {},
     "output_type": "display_data"
    },
    {
     "name": "stderr",
     "output_type": "stream",
     "text": [
      "C:\\Users\\60322\\AppData\\Local\\Programs\\Python\\Python313\\Lib\\site-packages\\IPython\\core\\pylabtools.py:170: UserWarning: Glyph 27544 (\\N{CJK UNIFIED IDEOGRAPH-6B98}) missing from font(s) DejaVu Sans.\n",
      "  fig.canvas.print_figure(bytes_io, **kw)\n",
      "C:\\Users\\60322\\AppData\\Local\\Programs\\Python\\Python313\\Lib\\site-packages\\IPython\\core\\pylabtools.py:170: UserWarning: Glyph 24046 (\\N{CJK UNIFIED IDEOGRAPH-5DEE}) missing from font(s) DejaVu Sans.\n",
      "  fig.canvas.print_figure(bytes_io, **kw)\n",
      "C:\\Users\\60322\\AppData\\Local\\Programs\\Python\\Python313\\Lib\\site-packages\\IPython\\core\\pylabtools.py:170: UserWarning: Glyph 22294 (\\N{CJK UNIFIED IDEOGRAPH-5716}) missing from font(s) DejaVu Sans.\n",
      "  fig.canvas.print_figure(bytes_io, **kw)\n"
     ]
    },
    {
     "data": {
      "image/png": "[encoded data removed]",
      "text/plain": [
       "<Figure size 800x600 with 1 Axes>"
      ]
     },
     "metadata": {},
     "output_type": "display_data"
    }
   ],
   "source": [
    "import pandas as pd\n",
    "import numpy as np\n",
    "import matplotlib.pyplot as plt\n",
    "from sklearn.linear_model import LinearRegression\n",
    "from sklearn.model_selection import train_test_split\n",
    "from sklearn.preprocessing import OneHotEncoder\n",
    "from sklearn.metrics import mean_squared_error, r2_score\n",
    "\n",
    "# 1. 讀取資料\n",
    "df = pd.read_csv(\"CarPrice_Assignment.csv\")\n",
    "\n",
    "# 2. 前處理：處理 car brand，拆解 'CarName'\n",
    "df['CarBrand'] = df['CarName'].apply(lambda x: x.split()[0].lower())\n",
    "df.drop(['car_ID', 'CarName'], axis=1, inplace=True)\n",
    "\n",
    "# 矯正一些品牌名稱的錯字（這是原資料常見錯誤）\n",
    "brand_corrections = {\n",
    "    \"vw\": \"volkswagen\", \"vokswagen\": \"volkswagen\", \"porcshce\": \"porsche\",\n",
    "    \"toyouta\": \"toyota\", \"maxda\": \"mazda\", \"nissan\": \"nissan\"\n",
    "}\n",
    "df['CarBrand'] = df['CarBrand'].replace(brand_corrections)\n",
    "\n",
    "# 3. One-hot encoding：針對類別變數\n",
    "categorical_cols = ['fueltype', 'aspiration', 'doornumber', 'carbody',\n",
    "                    'drivewheel', 'enginelocation', 'enginetype',\n",
    "                    'cylindernumber', 'fuelsystem', 'CarBrand']\n",
    "\n",
    "df = pd.get_dummies(df, columns=categorical_cols, drop_first=True)\n",
    "\n",
    "# 4. 分離特徵與目標變數\n",
    "X = df.drop(\"price\", axis=1)\n",
    "y = df[\"price\"]\n",
    "\n",
    "# 5. 分割訓練與測試資料\n",
    "X_train, X_test, y_train, y_test = train_test_split(X, y, test_size=0.2, random_state=42)\n",
    "\n",
    "# 6. 建立並訓練線性回歸模型\n",
    "model = LinearRegression()\n",
    "model.fit(X_train, y_train)\n",
    "\n",
    "# 7. 預測與評估\n",
    "y_pred = model.predict(X_test)\n",
    "r2 = r2_score(y_test, y_pred)\n",
    "rmse = np.sqrt(mean_squared_error(y_test, y_pred))\n",
    "\n",
    "print(f\"R² 分數：{r2:.4f}\")\n",
    "print(f\"RMSE：{rmse:.2f}\")\n",
    "\n",
    "# 8. 顯示每個特徵的係數（依影響力排序）\n",
    "coef_df = pd.DataFrame({\n",
    "    'Feature': X.columns,\n",
    "    'Coefficient': model.coef_\n",
    "}).sort_values(by='Coefficient', key=abs, ascending=False)\n",
    "\n",
    "print(\"\\n特徵影響力（依係數絕對值排序）:\")\n",
    "print(coef_df.head(10))\n",
    "\n",
    "# 9. 可視化：實際值 vs 預測值\n",
    "plt.figure(figsize=(8, 6))\n",
    "plt.scatter(y_test, y_pred, alpha=0.5)\n",
    "plt.xlabel(\"實際價格\")\n",
    "plt.ylabel(\"預測價格\")\n",
    "plt.title(\"實際 vs 預測 汽車價格\")\n",
    "plt.plot([y_test.min(), y_test.max()], [y_test.min(), y_test.max()], 'r--')\n",
    "plt.grid(True)\n",
    "plt.show()\n",
    "\n",
    "# 10. 可視化：殘差圖\n",
    "residuals = y_test - y_pred\n",
    "plt.figure(figsize=(8, 6))\n",
    "plt.scatter(y_pred, residuals, alpha=0.5)\n",
    "plt.axhline(0, color='red', linestyle='--')\n",
    "plt.xlabel(\"預測價格\")\n",
    "plt.ylabel(\"殘差\")\n",
    "plt.title(\"殘差圖\")\n",
    "plt.grid(True)\n",
    "plt.show()\n"
   ]
  },
  {
   "cell_type": "markdown",
   "id": "18aeb769-8105-48ad-92f3-cdeaff632947",
   "metadata": {},
   "source": [
    "---"
   ]
  },
  {
   "cell_type": "markdown",
   "id": "0b75cd85-b5ca-4e4e-ab97-c21d2b0b3103",
   "metadata": {},
   "source": [
    "# Ridge Regression\n",
    "\n",
    "Ridge regression is a linear regression method that adds a penalty term to the ordinary least squares objective function. This penalty term helps to reduce overfitting by shrinking the coefficients towards zero. The complexity of the model can be controlled by the regularization parameter.\n",
    "\n",
    "Let's fit a ridge regression model."
   ]
  },
  {
   "cell_type": "markdown",
   "id": "763d6328-5a75-4074-b85b-e7cf54cba202",
   "metadata": {},
   "source": [
    "# Ridge Regression（脊回歸）介紹\n",
    "\n",
    "**Ridge Regression** 是一種改進的線性回歸方法，在 Ordinary Least Squares (OLS) 的目標函數中加入懲罰項（penalty term），用來抑制模型過度擬合（overfitting）。它透過將模型係數向 0 收縮，達到簡化模型與提高泛化能力的目的。\n",
    "\n",
    "---\n",
    "\n",
    "## 目標函數（Objective Function）\n",
    "\n",
    "Ridge Regression 的最小化目標為：\n",
    "\n",
    "$$\\min_{\\beta} \\; \\| y - X\\beta \\|^2 + \\lambda \\| \\beta \\|^2$$\n",
    "\n",
    "其中：\n",
    "\n",
    "- $y$ 是響應變數（response variable）\n",
    "- $X$ 是特徵矩陣（feature matrix）\n",
    "- $\\beta$ 是模型參數（regression coefficients）\n",
    "- $\\lambda$ 是正則化參數（regularization parameter），控制懲罰項的強度\n",
    "- $\\| \\beta \\|^2$ 是 L2 範數平方（即 $\\sum \\beta_i^2$）\n",
    "\n",
    "---\n",
    "\n",
    "## 模型特性\n",
    "\n",
    "- 當 $\\lambda = 0$，Ridge Regression 等同於 OLS。\n",
    "- 隨著 $\\lambda$ 增加，模型係數會越接近 0。\n",
    "- 能有效處理共線性問題，並防止模型對訓練資料過度擬合。\n",
    "\n",
    "---\n",
    "\n",
    "## 與 OLS 的比較\n",
    "\n",
    "| 項目         | OLS 回歸           | Ridge 回歸                      |\n",
    "|--------------|--------------------|---------------------------------|\n",
    "| 目標         | 最小化殘差平方和    | 殘差平方和 + 正則化項          |\n",
    "| 過擬合控制    | 無                  | 有，透過 $\\lambda$ 控制        |\n",
    "| 解的形式      | $(X^\\top X)^{-1} X^\\top y$ | $(X^\\top X + \\lambda I)^{-1} X^\\top y$ |\n",
    "\n",
    "---\n",
    "\n",
    "## 應用場景\n",
    "\n",
    "- 高維資料中（特徵數多於樣本數）\n",
    "- 特徵之間有高度共線性\n",
    "- 希望模型更穩定並具備更強的泛化能力\n",
    "\n",
    "---\n",
    "\n"
   ]
  },
  {
   "cell_type": "code",
   "execution_count": 3,
   "id": "28820801-e94f-4c88-8f66-a3215968cc98",
   "metadata": {},
   "outputs": [
    {
     "name": "stdout",
     "output_type": "stream",
     "text": [
      "[0.34545455 0.34545455]\n"
     ]
    }
   ],
   "source": [
    "reg = linear_model.Ridge(alpha=0.5)\n",
    "reg.fit([[0, 0], [0, 0], [1, 1]], [0, 0.1, 1])\n",
    "\n",
    "print(reg.coef_)"
   ]
  },
  {
   "cell_type": "markdown",
   "id": "46aab900-6f34-40a7-998d-fcd05c9519bc",
   "metadata": {},
   "source": [
    "* We create an instance of Ridge with the regularization parameter alpha set to 0.5.\n",
    "* We use the fit method to fit the model to the training data.\n",
    "* We print the coefficients of the ridge regression model.\n",
    "* Continue"
   ]
  },
  {
   "cell_type": "markdown",
   "id": "40039ebb-2e35-473d-a468-a138e80e9d46",
   "metadata": {},
   "source": [
    "---"
   ]
  },
  {
   "cell_type": "markdown",
   "id": "396fcd6c-b2eb-4b6e-936e-5000f0fdbca2",
   "metadata": {},
   "source": [
    "# Lasso\n",
    "Lasso is a linear regression method that adds a penalty term to the ordinary least squares objective function. The penalty term has the effect of setting some coefficients to exactly zero, thus performing feature selection. Lasso can be used for sparse model estimation."
   ]
  },
  {
   "cell_type": "markdown",
   "id": "e49c7e83-06b6-4350-a314-4c0aab0d1096",
   "metadata": {},
   "source": [
    "# Lasso Regression（套索回歸）介紹\n",
    "\n",
    "**Lasso Regression** 是一種線性回歸方法，它在 Ordinary Least Squares (OLS) 的目標函數中加入 L1 正則化（L1 penalty）。這種懲罰會導致部分係數縮小至「**完全為 0**」，因此具有 **特徵選擇（feature selection）** 的能力。\n",
    "\n",
    "---\n",
    "\n",
    "## 目標函數（Objective Function）\n",
    "\n",
    "Lasso 的優化目標為：\n",
    "\n",
    "$$ \\min_{\\beta} \\; \\| y - X\\beta \\|^2 + \\lambda \\| \\beta \\|_1 $$\n",
    "\n",
    "其中：\n",
    "\n",
    "- $y$：響應變數（response variable）\n",
    "- $X$：特徵矩陣（feature matrix）\n",
    "- $\\beta$：回歸係數（regression coefficients）\n",
    "- $\\lambda$：正則化參數（regularization parameter）\n",
    "- $\\| \\beta \\|_1 = \\sum |\\beta_i|$：L1 範數（絕對值之和）\n",
    "\n",
    "---\n",
    "\n",
    "## 特性與優點\n",
    "\n",
    "- 可以將不重要的特徵係數縮為 **0**，達到變數選擇效果\n",
    "- 在特徵數量遠大於樣本數的情況下非常有效\n",
    "- 適合建立稀疏模型（sparse model）\n",
    "\n",
    "---\n",
    "\n",
    "## 與 Ridge Regression 比較\n",
    "\n",
    "| 項目         | Ridge 回歸         | Lasso 回歸                     |\n",
    "|--------------|--------------------|--------------------------------|\n",
    "| 懲罰類型      | L2 範數             | L1 範數                         |\n",
    "| 係數縮小      | 係數趨近於 0         | 係數可以變為 0（特徵選擇）      |\n",
    "| 適用情境      | 共線性處理          | 稀疏特徵建模／特徵選擇          |\n",
    "\n",
    "---\n",
    "\n",
    "## 準備建立 Lasso 模型\n",
    "\n",
    "我們接下來可以嘗試使用 Python 建立一個 Lasso 回歸模型。\n"
   ]
  },
  {
   "cell_type": "code",
   "execution_count": 4,
   "id": "8e450640-d698-4440-b1fb-1ddd4425bda5",
   "metadata": {},
   "outputs": [
    {
     "name": "stdout",
     "output_type": "stream",
     "text": [
      "[ 6.45386948 94.67737779 40.55794675  0.         -0.         -0.\n",
      " 10.98839003 95.40225582 80.67610577 34.83198456 -0.          0.\n",
      "  0.         -0.         -0.         29.82848069  7.12581798 -0.\n",
      "  0.         52.17111821]\n"
     ]
    }
   ],
   "source": [
    "from sklearn.linear_model import Lasso\n",
    "from sklearn.datasets import make_regression\n",
    "\n",
    "# 建立模擬資料\n",
    "X, y = make_regression(n_samples=100, n_features=20, noise=0.1, random_state=42)\n",
    "\n",
    "# 建立並訓練 Lasso 模型\n",
    "model = Lasso(alpha=0.1)\n",
    "model.fit(X, y)\n",
    "\n",
    "# 印出模型係數\n",
    "print(model.coef_)"
   ]
  },
  {
   "cell_type": "code",
   "execution_count": 5,
   "id": "2fa9738e-bae7-43ed-9969-89db71a6c283",
   "metadata": {},
   "outputs": [
    {
     "name": "stdout",
     "output_type": "stream",
     "text": [
      "[0.6 0. ]\n"
     ]
    }
   ],
   "source": [
    "reg = linear_model.Lasso(alpha=0.1)\n",
    "reg.fit([[0, 0], [1, 1]], [0, 1])\n",
    "\n",
    "print(reg.coef_)"
   ]
  },
  {
   "cell_type": "markdown",
   "id": "1bf50eb3-de15-4e04-ab5a-34bb36602e50",
   "metadata": {},
   "source": [
    "* We create an instance of Lasso with the regularization parameter alpha set to 0.1.\n",
    "* We use the fit method to fit the model to the training data.\n",
    "* We print the coefficients of the lasso model."
   ]
  },
  {
   "cell_type": "markdown",
   "id": "ec14e386-dfc3-486c-b467-a14426ef7659",
   "metadata": {},
   "source": [
    "---"
   ]
  },
  {
   "cell_type": "markdown",
   "id": "80ef2429-0fd4-449f-819a-951eb92c6a69",
   "metadata": {},
   "source": [
    "# Logistic Regression\n",
    "Logistic regression is a classification method that estimates the probabilities of the possible outcomes using a logistic function. It is commonly used for binary classification tasks. Logistic regression can also be extended to handle multi-class classification problems."
   ]
  },
  {
   "cell_type": "markdown",
   "id": "d4a15915-b221-418e-8a9c-583d2e53bde9",
   "metadata": {},
   "source": [
    "# Logistic Regression（邏輯回歸）介紹\n",
    "\n",
    "**Logistic Regression** 是一種用於分類任務的統計方法，透過 logistic 函數（S 型函數）將線性回歸輸出轉換為介於 0 與 1 之間的機率值。它最常用於 **二元分類（binary classification）** 問題，例如判斷是否會發生某事件。\n",
    "\n",
    "---\n",
    "\n",
    "## 模型概念\n",
    "\n",
    "Logistic 回歸建模的是事件發生的 **機率**，模型形式為：\n",
    "\n",
    "$$\n",
    "P(y = 1 \\mid X) = \\frac{1}{1 + e^{-(X\\beta)}}\n",
    "$$\n",
    "\n",
    "其中：\n",
    "\n",
    "- $P(y = 1 \\mid X)$ 是在給定輸入 $X$ 條件下，$y$ 為 1 的機率  \n",
    "- $X$ 是特徵向量，$\\beta$ 是參數向量  \n",
    "- $e$ 是自然對數的底數  \n",
    "- $\\sigma(z) = \\frac{1}{1 + e^{-z}}$ 為 sigmoid 函數\n",
    "\n",
    "---\n",
    "\n",
    "## 特性與擴充\n",
    "\n",
    "- 模型輸出為機率，可根據閾值（通常為 0.5）轉換為類別預測\n",
    "- 可延伸為多分類模型（multinomial logistic regression / softmax regression）\n",
    "- 可加入 L1 或 L2 正則化項進行模型控制\n",
    "\n",
    "---\n",
    "\n",
    "## 與線性回歸的差異\n",
    "\n",
    "| 項目             | 線性回歸               | 邏輯回歸                 |\n",
    "|------------------|------------------------|----------------------------|\n",
    "| 輸出範圍         | 任意實數               | 機率值（0 到 1）            |\n",
    "| 問題類型         | 預測連續值             | 分類問題（機率/類別）       |\n",
    "| 損失函數         | 殘差平方和（MSE）       | 邏輯損失（log loss / cross entropy） |\n",
    "\n",
    "---"
   ]
  },
  {
   "cell_type": "code",
   "execution_count": 6,
   "id": "36e8d575-b044-4ce5-a995-cbbe78f5bb10",
   "metadata": {},
   "outputs": [
    {
     "name": "stdout",
     "output_type": "stream",
     "text": [
      "Accuracy: 0.8666666666666667\n"
     ]
    }
   ],
   "source": [
    "from sklearn.linear_model import LogisticRegression\n",
    "from sklearn.datasets import make_classification\n",
    "from sklearn.model_selection import train_test_split\n",
    "from sklearn.metrics import accuracy_score\n",
    "\n",
    "# 建立模擬資料（binary classification）\n",
    "X, y = make_classification(n_samples=200, n_features=5, random_state=42)\n",
    "\n",
    "# 分割訓練與測試資料\n",
    "X_train, X_test, y_train, y_test = train_test_split(X, y, test_size=0.3, random_state=42)\n",
    "\n",
    "# 建立並訓練模型\n",
    "model = LogisticRegression()\n",
    "model.fit(X_train, y_train)\n",
    "\n",
    "# 預測與評估\n",
    "y_pred = model.predict(X_test)\n",
    "print(\"Accuracy:\", accuracy_score(y_test, y_pred))"
   ]
  },
  {
   "cell_type": "code",
   "execution_count": 7,
   "id": "19de345b-344d-46c7-a1b7-d7d3af0ebcb0",
   "metadata": {},
   "outputs": [
    {
     "name": "stdout",
     "output_type": "stream",
     "text": [
      "[[ 0.39758121 -0.50380348  0.07252856  1.87977126  0.08573005]]\n"
     ]
    }
   ],
   "source": [
    "clf = linear_model.LogisticRegression(random_state=0).fit(X, y)\n",
    "print(clf.coef_)"
   ]
  },
  {
   "cell_type": "markdown",
   "id": "377e1e3b-025c-4d80-abf5-877023138b80",
   "metadata": {},
   "source": [
    "* We create an instance of LogisticRegression with the random_state parameter set to 0.\n",
    "* We use the fit method to fit the model to the training data.\n",
    "* We print the coefficients of the logistic regression model."
   ]
  },
  {
   "cell_type": "markdown",
   "id": "4768d3d3-03f4-48f4-a867-ca53bb76a0f5",
   "metadata": {},
   "source": [
    "# Stochastic Gradient Descent (SGD)\n",
    "Stochastic Gradient Descent (SGD) is a simple yet efficient approach for training linear models. It is particularly useful when the number of samples and features is very large. SGD updates the model parameters using a small subset of the training data at each iteration, which makes it suitable for online learning and out-of-core learning."
   ]
  },
  {
   "cell_type": "markdown",
   "id": "abf8bd86-eedf-4fff-bbb7-77414f594f03",
   "metadata": {},
   "source": [
    "# Stochastic Gradient Descent (SGD) 介紹\n",
    "\n",
    "**Stochastic Gradient Descent (SGD)** 是一種簡單而高效的模型訓練方法，特別適用於樣本數或特徵數非常龐大的情況。與傳統的批次梯度下降（Batch Gradient Descent）不同，SGD 每次僅使用一筆或少量資料來更新參數，這使得它特別適合：\n",
    "\n",
    "- 線上學習（online learning）\n",
    "- 流式資料處理（streaming data）\n",
    "- 超大資料集（out-of-core learning）\n",
    "\n",
    "---\n",
    "\n",
    "## 基本概念\n",
    "\n",
    "對於一個參數為 $\\theta$ 的模型，若損失函數為 $L(\\theta)$，則傳統梯度下降的更新公式為：\n",
    "\n",
    "$$\n",
    "\\theta := \\theta - \\eta \\cdot \\nabla L(\\theta)\n",
    "$$\n",
    "\n",
    "而 **SGD** 則是使用隨機選取的單筆資料 $(x_i, y_i)$ 來近似損失：\n",
    "\n",
    "$$\n",
    "\\theta := \\theta - \\eta \\cdot \\nabla L_i(\\theta)\n",
    "$$\n",
    "\n",
    "其中：\n",
    "\n",
    "- $\\eta$ 是學習率（learning rate）\n",
    "- $L_i(\\theta)$ 是對樣本 $i$ 的損失\n",
    "\n",
    "這樣的更新速度快、記憶體需求低，但會帶來較高的參數震盪（不穩定性），通常可透過 mini-batch、動態學習率或動量法改善。\n",
    "\n",
    "---\n",
    "\n",
    "## 優點與特性\n",
    "\n",
    "- **快速更新**：適合即時學習與模型微調\n",
    "- **低記憶體使用**：每次只載入少量資料\n",
    "- **可持續訓練**：支援 streaming / online learning 模式\n",
    "- **收斂較不穩定**：需調整學習率與其他超參數\n",
    "\n",
    "---"
   ]
  },
  {
   "cell_type": "markdown",
   "id": "60b1fa89-1219-4eb5-9b3b-3868d61f839b",
   "metadata": {},
   "source": [
    "## 使用 SGD 訓練 Logistic Regression 模型"
   ]
  },
  {
   "cell_type": "code",
   "execution_count": 8,
   "id": "8d8d1bd9-dcba-4de6-8a6b-696cb2016bb7",
   "metadata": {},
   "outputs": [
    {
     "name": "stdout",
     "output_type": "stream",
     "text": [
      "Accuracy: 0.8066666666666666\n"
     ]
    }
   ],
   "source": [
    "from sklearn.linear_model import SGDClassifier\n",
    "from sklearn.datasets import make_classification\n",
    "from sklearn.model_selection import train_test_split\n",
    "from sklearn.metrics import accuracy_score\n",
    "\n",
    "# 建立模擬資料\n",
    "X, y = make_classification(n_samples=1000, n_features=20, random_state=42)\n",
    "\n",
    "# 切分資料\n",
    "X_train, X_test, y_train, y_test = train_test_split(X, y, test_size=0.3, random_state=42)\n",
    "\n",
    "# 建立並訓練 SGD 分類器（使用邏輯斯回歸損失）\n",
    "model = SGDClassifier(loss=\"log_loss\", max_iter=1000, learning_rate='optimal', random_state=42)\n",
    "model.fit(X_train, y_train)\n",
    "\n",
    "# 預測與評估\n",
    "y_pred = model.predict(X_test)\n",
    "print(\"Accuracy:\", accuracy_score(y_test, y_pred))\n"
   ]
  },
  {
   "cell_type": "code",
   "execution_count": 9,
   "id": "9300e5d5-0e91-4b02-b42c-bd401a73d8cc",
   "metadata": {},
   "outputs": [
    {
     "name": "stdout",
     "output_type": "stream",
     "text": [
      "[[-2.09193066e-03 -6.49722947e-01  4.74693545e-01 -1.95411927e-01\n",
      "   2.60577151e-01  2.11003462e+00 -4.11074652e-01 -4.56211669e-01\n",
      "  -1.10235638e-01  2.78221850e-01  6.87825120e-01  4.93415646e-01\n",
      "  -2.27537505e-02 -1.74697843e-01 -6.70348035e-01 -2.40114947e-01\n",
      "   3.83780670e-01  8.32484582e-02 -9.99139278e-01 -5.47660765e-01]]\n"
     ]
    }
   ],
   "source": [
    "clf = linear_model.SGDClassifier(loss=\"log_loss\", max_iter=1000)\n",
    "clf.fit(X, y)\n",
    "\n",
    "print(clf.coef_)"
   ]
  },
  {
   "cell_type": "markdown",
   "id": "4568702b-4079-40a4-9473-8ed1abbacf68",
   "metadata": {},
   "source": [
    "* We create an instance of SGDClassifier with the loss parameter set to \"log_loss\" to perform logistic regression.\n",
    "* We use the fit method to fit the model to the training data.\n",
    "* We print the coefficients of the logistic regression model obtained using SGD."
   ]
  },
  {
   "cell_type": "markdown",
   "id": "399a82c3-e2e8-479d-b0f3-81957a844d12",
   "metadata": {},
   "source": [
    "# Perceptron\n",
    "The Perceptron is a simple linear classification algorithm suitable for large-scale learning. It updates its model only on mistakes, making it faster to train than the stochastic gradient descent (SGD) with hinge loss. The resulting models are also sparser."
   ]
  },
  {
   "cell_type": "markdown",
   "id": "80c50663-7843-4656-a3f6-1555c3318ce0",
   "metadata": {},
   "source": [
    "基本觀念：\n",
    "Perceptron 是一種最早期的「線性分類器」，專門用來將資料分成兩類（例如：貓 or 狗）。\n",
    "\n",
    "原理如下：\n",
    "- 給定一組輸入特徵 x = [x₁, x₂, ..., xₙ]\n",
    "- 權重向量 w = [w₁, w₂, ..., wₙ]\n",
    "- 計算：加權總和 `z = w · x + b`\n",
    "- 判斷：\n",
    "   如果 z ≥ 0，預測為正類 (+1)\n",
    "   如果 z <  0，預測為負類 (-1)\n",
    "\n",
    "更新規則（只有預測錯誤才更新）：\n",
    "- 如果預測錯了（即 y ≠ 預測值）：\n",
    "    w ← w + y * x\n",
    "    b ← b + y\n",
    "\n",
    "特點：\n",
    "- 僅在「犯錯時」才更新權重，節省訓練時間。\n",
    "- 與 SVM 不同，它不會使用 loss function，而是直接調整權重。\n",
    "- 若資料可線性分割，Perceptron 保證收斂。\n",
    "\n",
    "適用場景：\n",
    "- 快速分類大規模資料\n",
    "- 線性可分的問題\n",
    "- 當不需要概率輸出或高準確率時的 baseline 模型\n"
   ]
  },
  {
   "cell_type": "code",
   "execution_count": 10,
   "id": "3bc1e7dd-b2a4-4654-b6d8-162d865f0245",
   "metadata": {},
   "outputs": [
    {
     "name": "stdout",
     "output_type": "stream",
     "text": [
      "[[ 2.85010542 -3.01319515 -4.29331803  1.31284096 -2.94543946  9.46677496\n",
      "  -2.10277224 -3.97991295  3.28738284  1.05824817  2.54526096  2.36440727\n",
      "   2.77214445 -0.85109982 -2.76774421  3.23864082  1.47327544 -1.9473374\n",
      "  -4.52927096  5.41081965]]\n"
     ]
    }
   ],
   "source": [
    "clf = linear_model.Perceptron(alpha=0.1)\n",
    "clf.fit(X, y)\n",
    "\n",
    "print(clf.coef_)"
   ]
  },
  {
   "cell_type": "markdown",
   "id": "d3261baf-08e6-4401-9719-f9befd3204e7",
   "metadata": {},
   "source": [
    "* We create an instance of Perceptron with the regularization parameter alpha set to 0.1.\n",
    "* We use the fit method to fit the model to the training data.\n",
    "* We print the coefficients of the perceptron model."
   ]
  },
  {
   "cell_type": "markdown",
   "id": "c80950b8-7f60-4edb-ad86-0ad0dcd65576",
   "metadata": {},
   "source": [
    "### We explored linear models in scikit-learn. \n",
    "#### We learned about \n",
    "* ordinary least squares\n",
    "* ridge regression\n",
    "* lasso\n",
    "* logistic regression\n",
    "* stochastic gradient descent\n",
    "* perceptron\n",
    "#### These models can be used for both regression and classification tasks.\n",
    "We also saw how to fit these models using various algorithms and techniques such as online learning and feature selection."
   ]
  },
  {
   "cell_type": "markdown",
   "id": "ce125585-3daf-45a3-b011-0506ee27090c",
   "metadata": {},
   "source": [
    "### Linear Models in Scikit-learn\n",
    "\n",
    "我們探索了 **scikit-learn** 中的線性模型，包括各種適用於迴歸與分類的演算法。\n",
    "\n",
    "#### 學到的模型：\n",
    "\n",
    "- **Ordinary Least Squares (OLS)**  \n",
    "  最基本的線性回歸模型，最小化預測值與實際值的平方差。\n",
    "\n",
    "- **Ridge Regression**  \n",
    "  加入 L2 正則化，避免 overfitting。\n",
    "\n",
    "- **Lasso**  \n",
    "  加入 L1 正則化，具有特徵選擇能力，結果會更稀疏。\n",
    "\n",
    "- **Logistic Regression**  \n",
    "  用於二分類問題，產生機率型預測值。\n",
    "\n",
    "- **Stochastic Gradient Descent (SGD)**  \n",
    "  適用於大規模資料集的線性模型訓練，逐一更新權重。\n",
    "\n",
    "- **Perceptron**  \n",
    "  經典線性分類器，只在錯誤預測時更新模型，速度快、模型稀疏。\n",
    "\n",
    "#### 技術與技巧：\n",
    "\n",
    "- **Online Learning**（線上學習）  \n",
    "  使用一筆筆資料逐步更新模型，適合大量或即時資料。\n",
    "\n",
    "- **Feature Selection**（特徵選擇）  \n",
    "  像 Lasso 這類模型會自動挑出有用的特徵，提高模型效率與解釋力。\n",
    "\n",
    "#### 適用於：\n",
    "\n",
    "- 回歸任務（Regression）\n",
    "- 分類任務（Classification）\n",
    "\n",
    "---"
   ]
  },
  {
   "cell_type": "code",
   "execution_count": null,
   "id": "67b22acd-4e6f-4052-8468-422a8d5c4d23",
   "metadata": {},
   "outputs": [],
   "source": []
  }
 ],
 "metadata": {
  "kernelspec": {
   "display_name": "Python 3 (ipykernel)",
   "language": "python",
   "name": "python3"
  },
  "language_info": {
   "codemirror_mode": {
    "name": "ipython",
    "version": 3
   },
   "file_extension": ".py",
   "mimetype": "text/x-python",
   "name": "python",
   "nbconvert_exporter": "python",
   "pygments_lexer": "ipython3",
   "version": "3.13.3"
  }
 },
 "nbformat": 4,
 "nbformat_minor": 5
}
