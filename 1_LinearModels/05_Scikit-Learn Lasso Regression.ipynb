{
 "cells": [
  {
   "cell_type": "markdown",
   "id": "b092d321-5200-46cc-91a5-aa4078575903",
   "metadata": {},
   "source": [
    "## Import Libraries\n",
    "We begin by importing the necessary libraries. We need Scikit-learn, NumPy, and SciPy."
   ]
  },
  {
   "cell_type": "code",
   "execution_count": 7,
   "id": "17e59216-6315-4454-b830-4541b57b1f0b",
   "metadata": {},
   "outputs": [],
   "source": [
    "import numpy as np\n",
    "from time import time\n",
    "from scipy import sparse\n",
    "from scipy import linalg\n",
    "from sklearn.datasets import make_regression\n",
    "from sklearn.linear_model import Lasso"
   ]
  },
  {
   "cell_type": "markdown",
   "id": "79031b55-892f-4a83-8ec6-48394d8131d5",
   "metadata": {},
   "source": [
    "## Generate Dense Data\n",
    "Next, we generate some dense data that we will use for the Lasso regression. We use Scikit-learn's make_regression function to generate 200 samples with 5000 features."
   ]
  },
  {
   "cell_type": "code",
   "execution_count": 8,
   "id": "a2a7b031-d762-4c3b-88f4-aecfb85f8483",
   "metadata": {},
   "outputs": [],
   "source": [
    "X, y = make_regression(\n",
    "    n_samples=200,       # 樣本數\n",
    "    n_features=5000,     # 特徵數\n",
    "    random_state=0\n",
    ")"
   ]
  },
  {
   "cell_type": "markdown",
   "id": "e06bd357-0eaa-4204-8e02-18043eb1ab49",
   "metadata": {},
   "source": [
    "## Train Lasso on Dense Data\n",
    "Now we train two Lasso regression models, one on the dense data and one on the sparse data. We set the alpha parameter to 1 and the maximum number of iterations to 1000."
   ]
  },
  {
   "cell_type": "code",
   "execution_count": null,
   "id": "10fb3c7d-cd5a-43ca-92d6-f667c5fb7d06",
   "metadata": {},
   "outputs": [],
   "source": [
    "# 2. 把小於閾值的元素設成 0，製造稀疏性\n",
    "Xs = X.copy()\n",
    "Xs[np.abs(Xs) < 2.5] = 0.0          # 讓矩陣有大量 0\n",
    "X_sp = sparse.csc_matrix(Xs)        # 轉成 SciPy 稀疏格式"
   ]
  },
  {
   "cell_type": "code",
   "execution_count": 11,
   "id": "de6b5c51-32ef-4817-8592-39116ed39d39",
   "metadata": {},
   "outputs": [],
   "source": [
    "# 3. 建好兩個 Lasso 模型\n",
    "alpha = 1\n",
    "sparse_lasso = Lasso(alpha=alpha, fit_intercept=False, max_iter=1000)\n",
    "dense_lasso = Lasso(alpha=alpha, fit_intercept=False, max_iter=1000)"
   ]
  },
  {
   "cell_type": "markdown",
   "id": "943c078d-43fd-4328-ab2c-d4b9c5cba50c",
   "metadata": {},
   "source": [
    "## Fit Lasso to Dense Data\n",
    "We fit the Lasso regression models to the dense data using Scikit-learn's fit function. We also time the fitting process and print the time for each Lasso model."
   ]
  },
  {
   "cell_type": "code",
   "execution_count": 12,
   "id": "4198f891-d8df-4806-b423-595c5146b688",
   "metadata": {},
   "outputs": [
    {
     "name": "stdout",
     "output_type": "stream",
     "text": [
      "Sparse Lasso done in 0.053s\n",
      "Dense  Lasso done in 0.045s\n"
     ]
    }
   ],
   "source": [
    "# 4. 訓練並計時 ― 稀疏版本\n",
    "t0 = time()\n",
    "sparse_lasso.fit(X_sp, y)\n",
    "print(f\"Sparse Lasso done in {time() - t0:.3f}s\")\n",
    "\n",
    "# 5. 訓練並計時 ― 稠密版本\n",
    "t0 = time()\n",
    "dense_lasso.fit(X, y)\n",
    "print(f\"Dense  Lasso done in {time() - t0:.3f}s\")"
   ]
  },
  {
   "cell_type": "markdown",
   "id": "af5754c8-d17e-4d89-bf0c-e0854b494bae",
   "metadata": {},
   "source": [
    "## Compare Coefficients of Dense Lasso and Sparse Lasso\n",
    "We compare the coefficients of the dense Lasso model and the sparse Lasso model to ensure that they are producing the same results. <br>We compute the Euclidean norm of the difference between the coefficients."
   ]
  },
  {
   "cell_type": "code",
   "execution_count": 13,
   "id": "30e885b5-aa11-4d2e-8900-2d3103f480d7",
   "metadata": {},
   "outputs": [
    {
     "name": "stdout",
     "output_type": "stream",
     "text": [
      "Distance between coefficients : 3.57e+02\n"
     ]
    }
   ],
   "source": [
    "coeff_diff = linalg.norm(sparse_lasso.coef_ - dense_lasso.coef_)\n",
    "print(f\"Distance between coefficients : {coeff_diff:.2e}\")"
   ]
  },
  {
   "cell_type": "markdown",
   "id": "4ea38bfc-94df-47d2-9c2c-ce6032e3c5fc",
   "metadata": {},
   "source": [
    "## Generate Sparse Data\n",
    "Next, we generate some sparse data that we will use for the Lasso regression. We copy the dense data from the previous step and replace all values less than 2.5 with 0. <br>We also convert the sparse data to Scipy's Compressed Sparse Column format."
   ]
  },
  {
   "cell_type": "code",
   "execution_count": 15,
   "id": "2a408555-d01a-4959-9f3e-2ae8fd50db38",
   "metadata": {},
   "outputs": [],
   "source": [
    "Xs = X.copy()\n",
    "Xs[Xs < 2.5] = 0.0\n",
    "Xs_sp = sparse.coo_matrix(Xs)\n",
    "Xs_sp = Xs_sp.tocsc()"
   ]
  },
  {
   "cell_type": "markdown",
   "id": "4347cb96-8c30-4fbc-acd9-5e6f4ca9b2be",
   "metadata": {},
   "source": [
    "## Train Lasso on Sparse Data\n",
    "Now we train two Lasso regression models, one on the dense data and one on the sparse data. We set the alpha parameter to 0.1 and the maximum number of iterations to 10000."
   ]
  },
  {
   "cell_type": "code",
   "execution_count": 16,
   "id": "263867fa-a9b8-4cdf-9702-a8642828e91e",
   "metadata": {},
   "outputs": [],
   "source": [
    "alpha = 0.1\n",
    "sparse_lasso = Lasso(alpha=alpha, fit_intercept=False, max_iter=10000)\n",
    "dense_lasso = Lasso(alpha=alpha, fit_intercept=False, max_iter=10000)"
   ]
  },
  {
   "cell_type": "markdown",
   "id": "d59afe6d-0663-4db5-b64b-bbf806226c7a",
   "metadata": {},
   "source": [
    "## Fit Lasso to Sparse Data\n",
    "We fit the Lasso regression models to the sparse data using Scikit-learn's fit function. We also time the fitting process and print the time for each Lasso model."
   ]
  },
  {
   "cell_type": "code",
   "execution_count": 17,
   "id": "4a12fe28-7c7f-447e-b864-2a79d3c715dd",
   "metadata": {},
   "outputs": [
    {
     "name": "stdout",
     "output_type": "stream",
     "text": [
      "Sparse Lasso done in 0.213s\n",
      "Dense Lasso done in  0.949s\n"
     ]
    }
   ],
   "source": [
    "t0 = time()\n",
    "sparse_lasso.fit(Xs_sp, y)\n",
    "print(f\"Sparse Lasso done in {(time() - t0):.3f}s\")\n",
    "\n",
    "t0 = time()\n",
    "dense_lasso.fit(Xs, y)\n",
    "print(f\"Dense Lasso done in  {(time() - t0):.3f}s\")"
   ]
  },
  {
   "cell_type": "markdown",
   "id": "455adc9c-7ed5-42b0-9ecb-cdb929e7b1c6",
   "metadata": {},
   "source": [
    "## Compare Coefficients of Dense Lasso and Sparse Lasso\n",
    "We compare the coefficients of the dense Lasso model and the sparse Lasso model to ensure that they are producing the same results. We compute the Euclidean norm of the difference between the coefficients.\n",
    "\n"
   ]
  },
  {
   "cell_type": "code",
   "execution_count": 18,
   "id": "5e637b59-ede9-4364-ae4a-3cfbf7e668f2",
   "metadata": {},
   "outputs": [
    {
     "name": "stdout",
     "output_type": "stream",
     "text": [
      "Distance between coefficients : 9.24e-12\n"
     ]
    }
   ],
   "source": [
    "coeff_diff = linalg.norm(sparse_lasso.coef_ - dense_lasso.coef_)\n",
    "print(f\"Distance between coefficients : {coeff_diff:.2e}\")"
   ]
  },
  {
   "cell_type": "markdown",
   "id": "95a64e97-237d-48e9-b479-236c939d15f8",
   "metadata": {},
   "source": [
    "## Summary\n",
    "In this lab, we demonstrated the use of Scikit-learn's Lasso regression algorithm on dense and sparse data. We showed that the Lasso algorithm provides the same results for dense and sparse data, and that in the case of sparse data, the algorithm is faster."
   ]
  },
  {
   "cell_type": "code",
   "execution_count": null,
   "id": "75b71ffa-7f9d-4d50-8663-9b0f1b2faa60",
   "metadata": {},
   "outputs": [],
   "source": []
  }
 ],
 "metadata": {
  "kernelspec": {
   "display_name": "Python 3 (ipykernel)",
   "language": "python",
   "name": "python3"
  },
  "language_info": {
   "codemirror_mode": {
    "name": "ipython",
    "version": 3
   },
   "file_extension": ".py",
   "mimetype": "text/x-python",
   "name": "python",
   "nbconvert_exporter": "python",
   "pygments_lexer": "ipython3",
   "version": "3.13.3"
  }
 },
 "nbformat": 4,
 "nbformat_minor": 5
}
